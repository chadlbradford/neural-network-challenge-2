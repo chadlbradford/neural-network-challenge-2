{
  "cells": [
    {
      "cell_type": "markdown",
      "metadata": {
        "id": "alIIEHibGc3M"
      },
      "source": [
        "## Part 1: Preprocessing"
      ]
    },
    {
      "cell_type": "code",
      "execution_count": 22,
      "metadata": {
        "colab": {
          "base_uri": "https://localhost:8080/",
          "height": 325
        },
        "id": "6eDUJ4NtGc3P",
        "outputId": "1ddaab70-7176-4f0b-c0fb-886c85c77883"
      },
      "outputs": [
        {
          "data": {
            "text/html": [
              "<div>\n",
              "<style scoped>\n",
              "    .dataframe tbody tr th:only-of-type {\n",
              "        vertical-align: middle;\n",
              "    }\n",
              "\n",
              "    .dataframe tbody tr th {\n",
              "        vertical-align: top;\n",
              "    }\n",
              "\n",
              "    .dataframe thead th {\n",
              "        text-align: right;\n",
              "    }\n",
              "</style>\n",
              "<table border=\"1\" class=\"dataframe\">\n",
              "  <thead>\n",
              "    <tr style=\"text-align: right;\">\n",
              "      <th></th>\n",
              "      <th>Age</th>\n",
              "      <th>Attrition</th>\n",
              "      <th>BusinessTravel</th>\n",
              "      <th>Department</th>\n",
              "      <th>DistanceFromHome</th>\n",
              "      <th>Education</th>\n",
              "      <th>EducationField</th>\n",
              "      <th>EnvironmentSatisfaction</th>\n",
              "      <th>HourlyRate</th>\n",
              "      <th>JobInvolvement</th>\n",
              "      <th>...</th>\n",
              "      <th>PerformanceRating</th>\n",
              "      <th>RelationshipSatisfaction</th>\n",
              "      <th>StockOptionLevel</th>\n",
              "      <th>TotalWorkingYears</th>\n",
              "      <th>TrainingTimesLastYear</th>\n",
              "      <th>WorkLifeBalance</th>\n",
              "      <th>YearsAtCompany</th>\n",
              "      <th>YearsInCurrentRole</th>\n",
              "      <th>YearsSinceLastPromotion</th>\n",
              "      <th>YearsWithCurrManager</th>\n",
              "    </tr>\n",
              "  </thead>\n",
              "  <tbody>\n",
              "    <tr>\n",
              "      <th>0</th>\n",
              "      <td>41</td>\n",
              "      <td>Yes</td>\n",
              "      <td>Travel_Rarely</td>\n",
              "      <td>Sales</td>\n",
              "      <td>1</td>\n",
              "      <td>2</td>\n",
              "      <td>Life Sciences</td>\n",
              "      <td>2</td>\n",
              "      <td>94</td>\n",
              "      <td>3</td>\n",
              "      <td>...</td>\n",
              "      <td>3</td>\n",
              "      <td>1</td>\n",
              "      <td>0</td>\n",
              "      <td>8</td>\n",
              "      <td>0</td>\n",
              "      <td>1</td>\n",
              "      <td>6</td>\n",
              "      <td>4</td>\n",
              "      <td>0</td>\n",
              "      <td>5</td>\n",
              "    </tr>\n",
              "    <tr>\n",
              "      <th>1</th>\n",
              "      <td>49</td>\n",
              "      <td>No</td>\n",
              "      <td>Travel_Frequently</td>\n",
              "      <td>Research &amp; Development</td>\n",
              "      <td>8</td>\n",
              "      <td>1</td>\n",
              "      <td>Life Sciences</td>\n",
              "      <td>3</td>\n",
              "      <td>61</td>\n",
              "      <td>2</td>\n",
              "      <td>...</td>\n",
              "      <td>4</td>\n",
              "      <td>4</td>\n",
              "      <td>1</td>\n",
              "      <td>10</td>\n",
              "      <td>3</td>\n",
              "      <td>3</td>\n",
              "      <td>10</td>\n",
              "      <td>7</td>\n",
              "      <td>1</td>\n",
              "      <td>7</td>\n",
              "    </tr>\n",
              "    <tr>\n",
              "      <th>2</th>\n",
              "      <td>37</td>\n",
              "      <td>Yes</td>\n",
              "      <td>Travel_Rarely</td>\n",
              "      <td>Research &amp; Development</td>\n",
              "      <td>2</td>\n",
              "      <td>2</td>\n",
              "      <td>Other</td>\n",
              "      <td>4</td>\n",
              "      <td>92</td>\n",
              "      <td>2</td>\n",
              "      <td>...</td>\n",
              "      <td>3</td>\n",
              "      <td>2</td>\n",
              "      <td>0</td>\n",
              "      <td>7</td>\n",
              "      <td>3</td>\n",
              "      <td>3</td>\n",
              "      <td>0</td>\n",
              "      <td>0</td>\n",
              "      <td>0</td>\n",
              "      <td>0</td>\n",
              "    </tr>\n",
              "    <tr>\n",
              "      <th>3</th>\n",
              "      <td>33</td>\n",
              "      <td>No</td>\n",
              "      <td>Travel_Frequently</td>\n",
              "      <td>Research &amp; Development</td>\n",
              "      <td>3</td>\n",
              "      <td>4</td>\n",
              "      <td>Life Sciences</td>\n",
              "      <td>4</td>\n",
              "      <td>56</td>\n",
              "      <td>3</td>\n",
              "      <td>...</td>\n",
              "      <td>3</td>\n",
              "      <td>3</td>\n",
              "      <td>0</td>\n",
              "      <td>8</td>\n",
              "      <td>3</td>\n",
              "      <td>3</td>\n",
              "      <td>8</td>\n",
              "      <td>7</td>\n",
              "      <td>3</td>\n",
              "      <td>0</td>\n",
              "    </tr>\n",
              "    <tr>\n",
              "      <th>4</th>\n",
              "      <td>27</td>\n",
              "      <td>No</td>\n",
              "      <td>Travel_Rarely</td>\n",
              "      <td>Research &amp; Development</td>\n",
              "      <td>2</td>\n",
              "      <td>1</td>\n",
              "      <td>Medical</td>\n",
              "      <td>1</td>\n",
              "      <td>40</td>\n",
              "      <td>3</td>\n",
              "      <td>...</td>\n",
              "      <td>3</td>\n",
              "      <td>4</td>\n",
              "      <td>1</td>\n",
              "      <td>6</td>\n",
              "      <td>3</td>\n",
              "      <td>3</td>\n",
              "      <td>2</td>\n",
              "      <td>2</td>\n",
              "      <td>2</td>\n",
              "      <td>2</td>\n",
              "    </tr>\n",
              "  </tbody>\n",
              "</table>\n",
              "<p>5 rows × 27 columns</p>\n",
              "</div>"
            ],
            "text/plain": [
              "   Age Attrition     BusinessTravel              Department  DistanceFromHome  \\\n",
              "0   41       Yes      Travel_Rarely                   Sales                 1   \n",
              "1   49        No  Travel_Frequently  Research & Development                 8   \n",
              "2   37       Yes      Travel_Rarely  Research & Development                 2   \n",
              "3   33        No  Travel_Frequently  Research & Development                 3   \n",
              "4   27        No      Travel_Rarely  Research & Development                 2   \n",
              "\n",
              "   Education EducationField  EnvironmentSatisfaction  HourlyRate  \\\n",
              "0          2  Life Sciences                        2          94   \n",
              "1          1  Life Sciences                        3          61   \n",
              "2          2          Other                        4          92   \n",
              "3          4  Life Sciences                        4          56   \n",
              "4          1        Medical                        1          40   \n",
              "\n",
              "   JobInvolvement  ...  PerformanceRating RelationshipSatisfaction  \\\n",
              "0               3  ...                  3                        1   \n",
              "1               2  ...                  4                        4   \n",
              "2               2  ...                  3                        2   \n",
              "3               3  ...                  3                        3   \n",
              "4               3  ...                  3                        4   \n",
              "\n",
              "   StockOptionLevel TotalWorkingYears  TrainingTimesLastYear WorkLifeBalance  \\\n",
              "0                 0                 8                      0               1   \n",
              "1                 1                10                      3               3   \n",
              "2                 0                 7                      3               3   \n",
              "3                 0                 8                      3               3   \n",
              "4                 1                 6                      3               3   \n",
              "\n",
              "   YearsAtCompany  YearsInCurrentRole  YearsSinceLastPromotion  \\\n",
              "0               6                   4                        0   \n",
              "1              10                   7                        1   \n",
              "2               0                   0                        0   \n",
              "3               8                   7                        3   \n",
              "4               2                   2                        2   \n",
              "\n",
              "   YearsWithCurrManager  \n",
              "0                     5  \n",
              "1                     7  \n",
              "2                     0  \n",
              "3                     0  \n",
              "4                     2  \n",
              "\n",
              "[5 rows x 27 columns]"
            ]
          },
          "execution_count": 22,
          "metadata": {},
          "output_type": "execute_result"
        }
      ],
      "source": [
        "# Import our dependencies\n",
        "from sklearn.model_selection import train_test_split\n",
        "from sklearn.preprocessing import StandardScaler\n",
        "import pandas as pd\n",
        "import numpy as np\n",
        "from tensorflow.keras.models import Model\n",
        "from tensorflow.keras import layers, Input\n",
        "from tensorflow.keras.layers import Dense\n",
        "\n",
        "#  Import and read the attrition data\n",
        "attrition_df = pd.read_csv('https://static.bc-edx.com/ai/ail-v-1-0/m19/lms/datasets/attrition.csv')\n",
        "attrition_df.head()"
      ]
    },
    {
      "cell_type": "code",
      "execution_count": 23,
      "metadata": {
        "colab": {
          "base_uri": "https://localhost:8080/",
          "height": 931
        },
        "id": "g22aQSY4Gc3Q",
        "outputId": "2ac8071f-1b4a-443c-a6f6-b263d4b3ace3"
      },
      "outputs": [
        {
          "data": {
            "text/plain": [
              "Age                         43\n",
              "Attrition                    2\n",
              "BusinessTravel               3\n",
              "Department                   3\n",
              "DistanceFromHome            29\n",
              "Education                    5\n",
              "EducationField               6\n",
              "EnvironmentSatisfaction      4\n",
              "HourlyRate                  71\n",
              "JobInvolvement               4\n",
              "JobLevel                     5\n",
              "JobRole                      9\n",
              "JobSatisfaction              4\n",
              "MaritalStatus                3\n",
              "NumCompaniesWorked          10\n",
              "OverTime                     2\n",
              "PercentSalaryHike           15\n",
              "PerformanceRating            2\n",
              "RelationshipSatisfaction     4\n",
              "StockOptionLevel             4\n",
              "TotalWorkingYears           40\n",
              "TrainingTimesLastYear        7\n",
              "WorkLifeBalance              4\n",
              "YearsAtCompany              37\n",
              "YearsInCurrentRole          19\n",
              "YearsSinceLastPromotion     16\n",
              "YearsWithCurrManager        18\n",
              "dtype: int64"
            ]
          },
          "execution_count": 23,
          "metadata": {},
          "output_type": "execute_result"
        }
      ],
      "source": [
        "# Determine the number of unique values in each column\n",
        "attrition_df.nunique()"
      ]
    },
    {
      "cell_type": "code",
      "execution_count": 24,
      "metadata": {
        "colab": {
          "base_uri": "https://localhost:8080/",
          "height": 206
        },
        "id": "50vMgBEnJbfM",
        "outputId": "d436abd4-46a6-49c9-c879-51ce07529ded"
      },
      "outputs": [
        {
          "data": {
            "text/html": [
              "<div>\n",
              "<style scoped>\n",
              "    .dataframe tbody tr th:only-of-type {\n",
              "        vertical-align: middle;\n",
              "    }\n",
              "\n",
              "    .dataframe tbody tr th {\n",
              "        vertical-align: top;\n",
              "    }\n",
              "\n",
              "    .dataframe thead th {\n",
              "        text-align: right;\n",
              "    }\n",
              "</style>\n",
              "<table border=\"1\" class=\"dataframe\">\n",
              "  <thead>\n",
              "    <tr style=\"text-align: right;\">\n",
              "      <th></th>\n",
              "      <th>Attrition</th>\n",
              "      <th>Department</th>\n",
              "    </tr>\n",
              "  </thead>\n",
              "  <tbody>\n",
              "    <tr>\n",
              "      <th>0</th>\n",
              "      <td>Yes</td>\n",
              "      <td>Sales</td>\n",
              "    </tr>\n",
              "    <tr>\n",
              "      <th>1</th>\n",
              "      <td>No</td>\n",
              "      <td>Research &amp; Development</td>\n",
              "    </tr>\n",
              "    <tr>\n",
              "      <th>2</th>\n",
              "      <td>Yes</td>\n",
              "      <td>Research &amp; Development</td>\n",
              "    </tr>\n",
              "    <tr>\n",
              "      <th>3</th>\n",
              "      <td>No</td>\n",
              "      <td>Research &amp; Development</td>\n",
              "    </tr>\n",
              "    <tr>\n",
              "      <th>4</th>\n",
              "      <td>No</td>\n",
              "      <td>Research &amp; Development</td>\n",
              "    </tr>\n",
              "  </tbody>\n",
              "</table>\n",
              "</div>"
            ],
            "text/plain": [
              "  Attrition              Department\n",
              "0       Yes                   Sales\n",
              "1        No  Research & Development\n",
              "2       Yes  Research & Development\n",
              "3        No  Research & Development\n",
              "4        No  Research & Development"
            ]
          },
          "execution_count": 24,
          "metadata": {},
          "output_type": "execute_result"
        }
      ],
      "source": [
        "# Create y_df with the Attrition and Department columns\n",
        "y_df = attrition_df[[\"Attrition\", \"Department\"]]\n",
        "\n",
        "# Preview the target DataFrame\n",
        "y_df.head()\n"
      ]
    },
    {
      "cell_type": "code",
      "execution_count": 25,
      "metadata": {
        "colab": {
          "base_uri": "https://localhost:8080/",
          "height": 0
        },
        "id": "Virka0zLGc3R",
        "outputId": "d4d95ae9-28a8-495b-85cc-ff0b4b4a886e"
      },
      "outputs": [
        {
          "name": "stdout",
          "output_type": "stream",
          "text": [
            "<class 'pandas.core.frame.DataFrame'>\n",
            "RangeIndex: 1470 entries, 0 to 1469\n",
            "Data columns (total 10 columns):\n",
            " #   Column                   Non-Null Count  Dtype\n",
            "---  ------                   --------------  -----\n",
            " 0   Age                      1470 non-null   int64\n",
            " 1   DistanceFromHome         1470 non-null   int64\n",
            " 2   Education                1470 non-null   int64\n",
            " 3   JobSatisfaction          1470 non-null   int64\n",
            " 4   WorkLifeBalance          1470 non-null   int64\n",
            " 5   JobLevel                 1470 non-null   int64\n",
            " 6   NumCompaniesWorked       1470 non-null   int64\n",
            " 7   TrainingTimesLastYear    1470 non-null   int64\n",
            " 8   YearsAtCompany           1470 non-null   int64\n",
            " 9   EnvironmentSatisfaction  1470 non-null   int64\n",
            "dtypes: int64(10)\n",
            "memory usage: 115.0 KB\n"
          ]
        }
      ],
      "source": [
        "# Create a list of at least 10 column names to use as X data\n",
        "x_cols = [\n",
        "    \"Age\",\n",
        "    \"DistanceFromHome\",\n",
        "    \"Education\",\n",
        "    \"JobSatisfaction\",\n",
        "    \"WorkLifeBalance\",\n",
        "    \"JobLevel\",\n",
        "    \"NumCompaniesWorked\",\n",
        "    \"TrainingTimesLastYear\",\n",
        "    \"YearsAtCompany\",\n",
        "    \"EnvironmentSatisfaction\"\n",
        "]\n",
        "\n",
        "# Create X_df using your selected columns\n",
        "X_df = attrition_df[x_cols]\n",
        "\n",
        "# Show the data types for X_df\n",
        "X_df.info()"
      ]
    },
    {
      "cell_type": "code",
      "execution_count": 26,
      "metadata": {
        "colab": {
          "base_uri": "https://localhost:8080/",
          "height": 0
        },
        "id": "KaJfdOGUMHMR",
        "outputId": "3e052443-ccd0-4af2-eb37-a877b08ffcef"
      },
      "outputs": [
        {
          "name": "stdout",
          "output_type": "stream",
          "text": [
            "X_train shape: (1176, 10)\n",
            "X_test shape: (294, 10)\n",
            "y_train shape: (1176, 2)\n",
            "y_test shape: (294, 2)\n"
          ]
        }
      ],
      "source": [
        "# Split the data into training and testing sets\n",
        "from sklearn.model_selection import train_test_split\n",
        "# Split the data\n",
        "X_train, X_test, y_train, y_test = train_test_split(\n",
        "    X_df, y_df, test_size=0.2, random_state=42\n",
        ")\n",
        "\n",
        "# Confirm shapes\n",
        "print(\"X_train shape:\", X_train.shape)\n",
        "print(\"X_test shape:\", X_test.shape)\n",
        "print(\"y_train shape:\", y_train.shape)\n",
        "print(\"y_test shape:\", y_test.shape)"
      ]
    },
    {
      "cell_type": "code",
      "execution_count": 27,
      "metadata": {
        "id": "NYubUJqiLCSp"
      },
      "outputs": [],
      "source": [
        "# Convert your X data to numeric data types however you see fit\n",
        "# Add new code cells as necessary\n"
      ]
    },
    {
      "cell_type": "code",
      "execution_count": 28,
      "metadata": {
        "colab": {
          "base_uri": "https://localhost:8080/",
          "height": 0
        },
        "id": "xDMD7x2kf012",
        "outputId": "7a0ab1e2-513e-443e-920a-bd0952059e0e"
      },
      "outputs": [
        {
          "name": "stdout",
          "output_type": "stream",
          "text": [
            "<class 'pandas.core.frame.DataFrame'>\n",
            "RangeIndex: 1470 entries, 0 to 1469\n",
            "Data columns (total 10 columns):\n",
            " #   Column                   Non-Null Count  Dtype\n",
            "---  ------                   --------------  -----\n",
            " 0   Age                      1470 non-null   int64\n",
            " 1   DistanceFromHome         1470 non-null   int64\n",
            " 2   Education                1470 non-null   int64\n",
            " 3   JobSatisfaction          1470 non-null   int64\n",
            " 4   WorkLifeBalance          1470 non-null   int64\n",
            " 5   JobLevel                 1470 non-null   int64\n",
            " 6   NumCompaniesWorked       1470 non-null   int64\n",
            " 7   TrainingTimesLastYear    1470 non-null   int64\n",
            " 8   YearsAtCompany           1470 non-null   int64\n",
            " 9   EnvironmentSatisfaction  1470 non-null   int64\n",
            "dtypes: int64(10)\n",
            "memory usage: 115.0 KB\n"
          ]
        }
      ],
      "source": [
        "#Check data types\n",
        "X_df.info()"
      ]
    },
    {
      "cell_type": "markdown",
      "metadata": {
        "id": "ZRC3VMX8gLp2"
      },
      "source": [
        "All data in X_df are int64.  No need to convert."
      ]
    },
    {
      "cell_type": "code",
      "execution_count": 29,
      "metadata": {
        "id": "EWA-aIA5Gc3T"
      },
      "outputs": [],
      "source": [
        "# Create a StandardScaler\n",
        "scaler = StandardScaler()\n",
        "\n",
        "# Fit the StandardScaler to the training data\n",
        "scaler.fit(X_train)\n",
        "\n",
        "# Scale the training and testing data\n",
        "X_train_scaled = scaler.transform(X_train)\n",
        "X_test_scaled = scaler.transform(X_test)"
      ]
    },
    {
      "cell_type": "code",
      "execution_count": 30,
      "metadata": {
        "colab": {
          "base_uri": "https://localhost:8080/",
          "height": 0
        },
        "id": "-z0Mky8vQSz4",
        "outputId": "e1b07f61-3db0-4ffc-e028-0aa8644aeb1f"
      },
      "outputs": [
        {
          "name": "stdout",
          "output_type": "stream",
          "text": [
            "[[0. 1. 0.]\n",
            " [0. 1. 0.]\n",
            " [0. 0. 1.]\n",
            " ...\n",
            " [0. 1. 0.]\n",
            " [0. 1. 0.]\n",
            " [0. 0. 1.]]\n"
          ]
        }
      ],
      "source": [
        "from sklearn.preprocessing import OneHotEncoder\n",
        "\n",
        "# Create a OneHotEncoder for the Department column\n",
        "dept_encoder = OneHotEncoder(sparse_output=False)\n",
        "\n",
        "# Fit the encoder to the training data\n",
        "dept_encoder.fit(y_train[[\"Department\"]])\n",
        "\n",
        "# Create two new variables by applying the encoder\n",
        "# to the training and testing data\n",
        "y_train_dept = dept_encoder.transform(y_train[[\"Department\"]])\n",
        "y_test_dept = dept_encoder.transform(y_test[[\"Department\"]])\n",
        "print(y_train_dept)"
      ]
    },
    {
      "cell_type": "code",
      "execution_count": 31,
      "metadata": {
        "colab": {
          "base_uri": "https://localhost:8080/",
          "height": 0
        },
        "id": "jiNXJFngnPyf",
        "outputId": "4e5626ee-332a-4d56-f28c-edd8af4fb0b2"
      },
      "outputs": [
        {
          "name": "stdout",
          "output_type": "stream",
          "text": [
            "Number of department classes: 3\n"
          ]
        }
      ],
      "source": [
        "# Get the number of unique department categories\n",
        "num_dept_classes = len(dept_encoder.categories_[0])\n",
        "print(f\"Number of department classes: {num_dept_classes}\")\n"
      ]
    },
    {
      "cell_type": "code",
      "execution_count": 32,
      "metadata": {
        "colab": {
          "base_uri": "https://localhost:8080/",
          "height": 0
        },
        "id": "-G4DSpvFRrk4",
        "outputId": "a0aa95d0-6994-478d-972b-51de5adb5f05"
      },
      "outputs": [
        {
          "name": "stdout",
          "output_type": "stream",
          "text": [
            "[[1. 0.]\n",
            " [1. 0.]\n",
            " [1. 0.]\n",
            " ...\n",
            " [0. 1.]\n",
            " [1. 0.]\n",
            " [1. 0.]]\n"
          ]
        }
      ],
      "source": [
        "# Create a OneHotEncoder for the Attrition column\n",
        "attrition_encoder = OneHotEncoder(sparse_output=False)\n",
        "\n",
        "# Fit the encoder to the training data\n",
        "attrition_encoder.fit(y_train[[\"Attrition\"]])\n",
        "\n",
        "# Create two new variables by applying the encoder\n",
        "# to the training and testing data\n",
        "y_train_attr = attrition_encoder.transform(y_train[[\"Attrition\"]])\n",
        "y_test_attr = attrition_encoder.transform(y_test[[\"Attrition\"]])\n",
        "print(y_train_attr)"
      ]
    },
    {
      "cell_type": "code",
      "execution_count": 33,
      "metadata": {
        "colab": {
          "base_uri": "https://localhost:8080/",
          "height": 0
        },
        "id": "iVKfv1fvn0Sg",
        "outputId": "c5e4348a-f6b2-497c-a8f4-b8994e6c9227"
      },
      "outputs": [
        {
          "name": "stdout",
          "output_type": "stream",
          "text": [
            "Number of attrition classes: 2\n"
          ]
        }
      ],
      "source": [
        "# Check number of unique classes in Attrition\n",
        "num_attrition_classes = len(attrition_encoder.categories_[0])\n",
        "print(f\"Number of attrition classes: {num_attrition_classes}\")"
      ]
    },
    {
      "cell_type": "markdown",
      "metadata": {
        "id": "ykNmu_WWGc3T"
      },
      "source": [
        "## Part 2: Create, Compile, and Train the Model"
      ]
    },
    {
      "cell_type": "code",
      "execution_count": 34,
      "metadata": {
        "colab": {
          "base_uri": "https://localhost:8080/",
          "height": 0
        },
        "id": "WUptZqmSGc3T",
        "outputId": "599882a4-97a9-4c71-ee1f-8caec3ae3cdc"
      },
      "outputs": [
        {
          "name": "stdout",
          "output_type": "stream",
          "text": [
            "Number of input features: 10\n"
          ]
        }
      ],
      "source": [
        "# Find the number of columns in the X training data.\n",
        "input_shape = X_train_scaled.shape[1]\n",
        "print(f\"Number of input features: {input_shape}\")\n",
        "\n",
        "# Create the input layer\n",
        "input_layer = Input(shape=(10,), name=\"input\")\n",
        "\n",
        "# Create at least two shared layers\n",
        "shared1 = Dense(64, activation=\"relu\", name=\"shared1\")(input_layer)\n",
        "shared2 = Dense(128, activation=\"relu\", name=\"shared2\")(shared1)"
      ]
    },
    {
      "cell_type": "code",
      "execution_count": 35,
      "metadata": {
        "id": "JukjTm2yTEqd"
      },
      "outputs": [],
      "source": [
        "# Create a branch for Department\n",
        "# with a hidden layer and an output layer\n",
        "\n",
        "# Create the hidden layer\n",
        "department_hidden = Dense(32, activation=\"relu\", name=\"department_hidden\")(shared2)\n",
        "\n",
        "# Create the output layer\n",
        "department_output = Dense(num_dept_classes, activation=\"softmax\", name=\"department_output\")(department_hidden)"
      ]
    },
    {
      "cell_type": "code",
      "execution_count": 36,
      "metadata": {
        "id": "9OqhUiOJUBkR"
      },
      "outputs": [],
      "source": [
        "# Create a branch for Attrition\n",
        "# with a hidden layer and an output layer\n",
        "\n",
        "# Create the hidden layer\n",
        "attrition_hidden = Dense(32, activation=\"relu\", name=\"attrition_hidden\")(shared2)\n",
        "\n",
        "# Create the output layer\n",
        "attrition_output = Dense(2, activation=\"softmax\", name=\"attrition_output\")(attrition_hidden)"
      ]
    },
    {
      "cell_type": "code",
      "execution_count": 37,
      "metadata": {
        "colab": {
          "base_uri": "https://localhost:8080/",
          "height": 442
        },
        "id": "twmuejdxGc3T",
        "outputId": "6253297c-c954-4223-f499-401883cc8317"
      },
      "outputs": [
        {
          "data": {
            "text/html": [
              "<pre style=\"white-space:pre;overflow-x:auto;line-height:normal;font-family:Menlo,'DejaVu Sans Mono',consolas,'Courier New',monospace\"><span style=\"font-weight: bold\">Model: \"functional_1\"</span>\n",
              "</pre>\n"
            ],
            "text/plain": [
              "\u001b[1mModel: \"functional_1\"\u001b[0m\n"
            ]
          },
          "metadata": {},
          "output_type": "display_data"
        },
        {
          "data": {
            "text/html": [
              "<pre style=\"white-space:pre;overflow-x:auto;line-height:normal;font-family:Menlo,'DejaVu Sans Mono',consolas,'Courier New',monospace\">┏━━━━━━━━━━━━━━━━━━━━━┳━━━━━━━━━━━━━━━━━━━┳━━━━━━━━━━━━┳━━━━━━━━━━━━━━━━━━━┓\n",
              "┃<span style=\"font-weight: bold\"> Layer (type)        </span>┃<span style=\"font-weight: bold\"> Output Shape      </span>┃<span style=\"font-weight: bold\">    Param # </span>┃<span style=\"font-weight: bold\"> Connected to      </span>┃\n",
              "┡━━━━━━━━━━━━━━━━━━━━━╇━━━━━━━━━━━━━━━━━━━╇━━━━━━━━━━━━╇━━━━━━━━━━━━━━━━━━━┩\n",
              "│ input (<span style=\"color: #0087ff; text-decoration-color: #0087ff\">InputLayer</span>)  │ (<span style=\"color: #00d7ff; text-decoration-color: #00d7ff\">None</span>, <span style=\"color: #00af00; text-decoration-color: #00af00\">10</span>)        │          <span style=\"color: #00af00; text-decoration-color: #00af00\">0</span> │ -                 │\n",
              "├─────────────────────┼───────────────────┼────────────┼───────────────────┤\n",
              "│ shared1 (<span style=\"color: #0087ff; text-decoration-color: #0087ff\">Dense</span>)     │ (<span style=\"color: #00d7ff; text-decoration-color: #00d7ff\">None</span>, <span style=\"color: #00af00; text-decoration-color: #00af00\">64</span>)        │        <span style=\"color: #00af00; text-decoration-color: #00af00\">704</span> │ input[<span style=\"color: #00af00; text-decoration-color: #00af00\">0</span>][<span style=\"color: #00af00; text-decoration-color: #00af00\">0</span>]       │\n",
              "├─────────────────────┼───────────────────┼────────────┼───────────────────┤\n",
              "│ shared2 (<span style=\"color: #0087ff; text-decoration-color: #0087ff\">Dense</span>)     │ (<span style=\"color: #00d7ff; text-decoration-color: #00d7ff\">None</span>, <span style=\"color: #00af00; text-decoration-color: #00af00\">128</span>)       │      <span style=\"color: #00af00; text-decoration-color: #00af00\">8,320</span> │ shared1[<span style=\"color: #00af00; text-decoration-color: #00af00\">0</span>][<span style=\"color: #00af00; text-decoration-color: #00af00\">0</span>]     │\n",
              "├─────────────────────┼───────────────────┼────────────┼───────────────────┤\n",
              "│ department_hidden   │ (<span style=\"color: #00d7ff; text-decoration-color: #00d7ff\">None</span>, <span style=\"color: #00af00; text-decoration-color: #00af00\">32</span>)        │      <span style=\"color: #00af00; text-decoration-color: #00af00\">4,128</span> │ shared2[<span style=\"color: #00af00; text-decoration-color: #00af00\">0</span>][<span style=\"color: #00af00; text-decoration-color: #00af00\">0</span>]     │\n",
              "│ (<span style=\"color: #0087ff; text-decoration-color: #0087ff\">Dense</span>)             │                   │            │                   │\n",
              "├─────────────────────┼───────────────────┼────────────┼───────────────────┤\n",
              "│ attrition_hidden    │ (<span style=\"color: #00d7ff; text-decoration-color: #00d7ff\">None</span>, <span style=\"color: #00af00; text-decoration-color: #00af00\">32</span>)        │      <span style=\"color: #00af00; text-decoration-color: #00af00\">4,128</span> │ shared2[<span style=\"color: #00af00; text-decoration-color: #00af00\">0</span>][<span style=\"color: #00af00; text-decoration-color: #00af00\">0</span>]     │\n",
              "│ (<span style=\"color: #0087ff; text-decoration-color: #0087ff\">Dense</span>)             │                   │            │                   │\n",
              "├─────────────────────┼───────────────────┼────────────┼───────────────────┤\n",
              "│ department_output   │ (<span style=\"color: #00d7ff; text-decoration-color: #00d7ff\">None</span>, <span style=\"color: #00af00; text-decoration-color: #00af00\">3</span>)         │         <span style=\"color: #00af00; text-decoration-color: #00af00\">99</span> │ department_hidde… │\n",
              "│ (<span style=\"color: #0087ff; text-decoration-color: #0087ff\">Dense</span>)             │                   │            │                   │\n",
              "├─────────────────────┼───────────────────┼────────────┼───────────────────┤\n",
              "│ attrition_output    │ (<span style=\"color: #00d7ff; text-decoration-color: #00d7ff\">None</span>, <span style=\"color: #00af00; text-decoration-color: #00af00\">2</span>)         │         <span style=\"color: #00af00; text-decoration-color: #00af00\">66</span> │ attrition_hidden… │\n",
              "│ (<span style=\"color: #0087ff; text-decoration-color: #0087ff\">Dense</span>)             │                   │            │                   │\n",
              "└─────────────────────┴───────────────────┴────────────┴───────────────────┘\n",
              "</pre>\n"
            ],
            "text/plain": [
              "┏━━━━━━━━━━━━━━━━━━━━━┳━━━━━━━━━━━━━━━━━━━┳━━━━━━━━━━━━┳━━━━━━━━━━━━━━━━━━━┓\n",
              "┃\u001b[1m \u001b[0m\u001b[1mLayer (type)       \u001b[0m\u001b[1m \u001b[0m┃\u001b[1m \u001b[0m\u001b[1mOutput Shape     \u001b[0m\u001b[1m \u001b[0m┃\u001b[1m \u001b[0m\u001b[1m   Param #\u001b[0m\u001b[1m \u001b[0m┃\u001b[1m \u001b[0m\u001b[1mConnected to     \u001b[0m\u001b[1m \u001b[0m┃\n",
              "┡━━━━━━━━━━━━━━━━━━━━━╇━━━━━━━━━━━━━━━━━━━╇━━━━━━━━━━━━╇━━━━━━━━━━━━━━━━━━━┩\n",
              "│ input (\u001b[38;5;33mInputLayer\u001b[0m)  │ (\u001b[38;5;45mNone\u001b[0m, \u001b[38;5;34m10\u001b[0m)        │          \u001b[38;5;34m0\u001b[0m │ -                 │\n",
              "├─────────────────────┼───────────────────┼────────────┼───────────────────┤\n",
              "│ shared1 (\u001b[38;5;33mDense\u001b[0m)     │ (\u001b[38;5;45mNone\u001b[0m, \u001b[38;5;34m64\u001b[0m)        │        \u001b[38;5;34m704\u001b[0m │ input[\u001b[38;5;34m0\u001b[0m][\u001b[38;5;34m0\u001b[0m]       │\n",
              "├─────────────────────┼───────────────────┼────────────┼───────────────────┤\n",
              "│ shared2 (\u001b[38;5;33mDense\u001b[0m)     │ (\u001b[38;5;45mNone\u001b[0m, \u001b[38;5;34m128\u001b[0m)       │      \u001b[38;5;34m8,320\u001b[0m │ shared1[\u001b[38;5;34m0\u001b[0m][\u001b[38;5;34m0\u001b[0m]     │\n",
              "├─────────────────────┼───────────────────┼────────────┼───────────────────┤\n",
              "│ department_hidden   │ (\u001b[38;5;45mNone\u001b[0m, \u001b[38;5;34m32\u001b[0m)        │      \u001b[38;5;34m4,128\u001b[0m │ shared2[\u001b[38;5;34m0\u001b[0m][\u001b[38;5;34m0\u001b[0m]     │\n",
              "│ (\u001b[38;5;33mDense\u001b[0m)             │                   │            │                   │\n",
              "├─────────────────────┼───────────────────┼────────────┼───────────────────┤\n",
              "│ attrition_hidden    │ (\u001b[38;5;45mNone\u001b[0m, \u001b[38;5;34m32\u001b[0m)        │      \u001b[38;5;34m4,128\u001b[0m │ shared2[\u001b[38;5;34m0\u001b[0m][\u001b[38;5;34m0\u001b[0m]     │\n",
              "│ (\u001b[38;5;33mDense\u001b[0m)             │                   │            │                   │\n",
              "├─────────────────────┼───────────────────┼────────────┼───────────────────┤\n",
              "│ department_output   │ (\u001b[38;5;45mNone\u001b[0m, \u001b[38;5;34m3\u001b[0m)         │         \u001b[38;5;34m99\u001b[0m │ department_hidde… │\n",
              "│ (\u001b[38;5;33mDense\u001b[0m)             │                   │            │                   │\n",
              "├─────────────────────┼───────────────────┼────────────┼───────────────────┤\n",
              "│ attrition_output    │ (\u001b[38;5;45mNone\u001b[0m, \u001b[38;5;34m2\u001b[0m)         │         \u001b[38;5;34m66\u001b[0m │ attrition_hidden… │\n",
              "│ (\u001b[38;5;33mDense\u001b[0m)             │                   │            │                   │\n",
              "└─────────────────────┴───────────────────┴────────────┴───────────────────┘\n"
            ]
          },
          "metadata": {},
          "output_type": "display_data"
        },
        {
          "data": {
            "text/html": [
              "<pre style=\"white-space:pre;overflow-x:auto;line-height:normal;font-family:Menlo,'DejaVu Sans Mono',consolas,'Courier New',monospace\"><span style=\"font-weight: bold\"> Total params: </span><span style=\"color: #00af00; text-decoration-color: #00af00\">17,445</span> (68.14 KB)\n",
              "</pre>\n"
            ],
            "text/plain": [
              "\u001b[1m Total params: \u001b[0m\u001b[38;5;34m17,445\u001b[0m (68.14 KB)\n"
            ]
          },
          "metadata": {},
          "output_type": "display_data"
        },
        {
          "data": {
            "text/html": [
              "<pre style=\"white-space:pre;overflow-x:auto;line-height:normal;font-family:Menlo,'DejaVu Sans Mono',consolas,'Courier New',monospace\"><span style=\"font-weight: bold\"> Trainable params: </span><span style=\"color: #00af00; text-decoration-color: #00af00\">17,445</span> (68.14 KB)\n",
              "</pre>\n"
            ],
            "text/plain": [
              "\u001b[1m Trainable params: \u001b[0m\u001b[38;5;34m17,445\u001b[0m (68.14 KB)\n"
            ]
          },
          "metadata": {},
          "output_type": "display_data"
        },
        {
          "data": {
            "text/html": [
              "<pre style=\"white-space:pre;overflow-x:auto;line-height:normal;font-family:Menlo,'DejaVu Sans Mono',consolas,'Courier New',monospace\"><span style=\"font-weight: bold\"> Non-trainable params: </span><span style=\"color: #00af00; text-decoration-color: #00af00\">0</span> (0.00 B)\n",
              "</pre>\n"
            ],
            "text/plain": [
              "\u001b[1m Non-trainable params: \u001b[0m\u001b[38;5;34m0\u001b[0m (0.00 B)\n"
            ]
          },
          "metadata": {},
          "output_type": "display_data"
        }
      ],
      "source": [
        "# Create the model\n",
        "model = Model(inputs=input_layer, outputs=[department_output, attrition_output])\n",
        "\n",
        "# Compile the model\n",
        "model.compile(\n",
        "    optimizer=\"adam\",\n",
        "    loss={\n",
        "        \"department_output\": \"categorical_crossentropy\",\n",
        "        \"attrition_output\": \"categorical_crossentropy\"\n",
        "    },\n",
        "    metrics={\n",
        "        \"department_output\": \"accuracy\",\n",
        "        \"attrition_output\": \"accuracy\"\n",
        "    }\n",
        ")\n",
        "\n",
        "# Summarize the model\n",
        "model.summary()"
      ]
    },
    {
      "cell_type": "code",
      "execution_count": 38,
      "metadata": {
        "colab": {
          "base_uri": "https://localhost:8080/",
          "height": 0
        },
        "id": "c8oGy0dpGc3U",
        "outputId": "c67be01c-50f0-4807-c957-1587f4e91e7e"
      },
      "outputs": [
        {
          "name": "stdout",
          "output_type": "stream",
          "text": [
            "Epoch 1/100\n",
            "\u001b[1m30/30\u001b[0m \u001b[32m━━━━━━━━━━━━━━━━━━━━\u001b[0m\u001b[37m\u001b[0m \u001b[1m2s\u001b[0m 20ms/step - attrition_output_accuracy: 0.7929 - attrition_output_loss: 0.5531 - department_output_accuracy: 0.5190 - department_output_loss: 0.9417 - loss: 1.4941 - val_attrition_output_accuracy: 0.7966 - val_attrition_output_loss: 0.5408 - val_department_output_accuracy: 0.6314 - val_department_output_loss: 0.7894 - val_loss: 1.3564\n",
            "Epoch 2/100\n",
            "\u001b[1m30/30\u001b[0m \u001b[32m━━━━━━━━━━━━━━━━━━━━\u001b[0m\u001b[37m\u001b[0m \u001b[1m0s\u001b[0m 6ms/step - attrition_output_accuracy: 0.8486 - attrition_output_loss: 0.4359 - department_output_accuracy: 0.6708 - department_output_loss: 0.7516 - loss: 1.1876 - val_attrition_output_accuracy: 0.7966 - val_attrition_output_loss: 0.4823 - val_department_output_accuracy: 0.6314 - val_department_output_loss: 0.7741 - val_loss: 1.2782\n",
            "Epoch 3/100\n",
            "\u001b[1m30/30\u001b[0m \u001b[32m━━━━━━━━━━━━━━━━━━━━\u001b[0m\u001b[37m\u001b[0m \u001b[1m0s\u001b[0m 6ms/step - attrition_output_accuracy: 0.8438 - attrition_output_loss: 0.4170 - department_output_accuracy: 0.6521 - department_output_loss: 0.7585 - loss: 1.1752 - val_attrition_output_accuracy: 0.7966 - val_attrition_output_loss: 0.4709 - val_department_output_accuracy: 0.6314 - val_department_output_loss: 0.7768 - val_loss: 1.2716\n",
            "Epoch 4/100\n",
            "\u001b[1m30/30\u001b[0m \u001b[32m━━━━━━━━━━━━━━━━━━━━\u001b[0m\u001b[37m\u001b[0m \u001b[1m0s\u001b[0m 6ms/step - attrition_output_accuracy: 0.8403 - attrition_output_loss: 0.4134 - department_output_accuracy: 0.6712 - department_output_loss: 0.7225 - loss: 1.1361 - val_attrition_output_accuracy: 0.8051 - val_attrition_output_loss: 0.4739 - val_department_output_accuracy: 0.6398 - val_department_output_loss: 0.7715 - val_loss: 1.2689\n",
            "Epoch 5/100\n",
            "\u001b[1m30/30\u001b[0m \u001b[32m━━━━━━━━━━━━━━━━━━━━\u001b[0m\u001b[37m\u001b[0m \u001b[1m0s\u001b[0m 7ms/step - attrition_output_accuracy: 0.8533 - attrition_output_loss: 0.3817 - department_output_accuracy: 0.6429 - department_output_loss: 0.7200 - loss: 1.1018 - val_attrition_output_accuracy: 0.8051 - val_attrition_output_loss: 0.4657 - val_department_output_accuracy: 0.6441 - val_department_output_loss: 0.7759 - val_loss: 1.2649\n",
            "Epoch 6/100\n",
            "\u001b[1m30/30\u001b[0m \u001b[32m━━━━━━━━━━━━━━━━━━━━\u001b[0m\u001b[37m\u001b[0m \u001b[1m0s\u001b[0m 5ms/step - attrition_output_accuracy: 0.8439 - attrition_output_loss: 0.3851 - department_output_accuracy: 0.6627 - department_output_loss: 0.7147 - loss: 1.0993 - val_attrition_output_accuracy: 0.8051 - val_attrition_output_loss: 0.4870 - val_department_output_accuracy: 0.6441 - val_department_output_loss: 0.7763 - val_loss: 1.2919\n",
            "Epoch 7/100\n",
            "\u001b[1m30/30\u001b[0m \u001b[32m━━━━━━━━━━━━━━━━━━━━\u001b[0m\u001b[37m\u001b[0m \u001b[1m0s\u001b[0m 4ms/step - attrition_output_accuracy: 0.8526 - attrition_output_loss: 0.3568 - department_output_accuracy: 0.6887 - department_output_loss: 0.6812 - loss: 1.0376 - val_attrition_output_accuracy: 0.8008 - val_attrition_output_loss: 0.4462 - val_department_output_accuracy: 0.6525 - val_department_output_loss: 0.7740 - val_loss: 1.2477\n",
            "Epoch 8/100\n",
            "\u001b[1m30/30\u001b[0m \u001b[32m━━━━━━━━━━━━━━━━━━━━\u001b[0m\u001b[37m\u001b[0m \u001b[1m0s\u001b[0m 5ms/step - attrition_output_accuracy: 0.8643 - attrition_output_loss: 0.3548 - department_output_accuracy: 0.7055 - department_output_loss: 0.6809 - loss: 1.0360 - val_attrition_output_accuracy: 0.8008 - val_attrition_output_loss: 0.4554 - val_department_output_accuracy: 0.6525 - val_department_output_loss: 0.7676 - val_loss: 1.2527\n",
            "Epoch 9/100\n",
            "\u001b[1m30/30\u001b[0m \u001b[32m━━━━━━━━━━━━━━━━━━━━\u001b[0m\u001b[37m\u001b[0m \u001b[1m0s\u001b[0m 5ms/step - attrition_output_accuracy: 0.8492 - attrition_output_loss: 0.3626 - department_output_accuracy: 0.6768 - department_output_loss: 0.6659 - loss: 1.0285 - val_attrition_output_accuracy: 0.8008 - val_attrition_output_loss: 0.4638 - val_department_output_accuracy: 0.6568 - val_department_output_loss: 0.7732 - val_loss: 1.2704\n",
            "Epoch 10/100\n",
            "\u001b[1m30/30\u001b[0m \u001b[32m━━━━━━━━━━━━━━━━━━━━\u001b[0m\u001b[37m\u001b[0m \u001b[1m0s\u001b[0m 4ms/step - attrition_output_accuracy: 0.8726 - attrition_output_loss: 0.3262 - department_output_accuracy: 0.7003 - department_output_loss: 0.6516 - loss: 0.9778 - val_attrition_output_accuracy: 0.7839 - val_attrition_output_loss: 0.4461 - val_department_output_accuracy: 0.6695 - val_department_output_loss: 0.7774 - val_loss: 1.2544\n",
            "Epoch 11/100\n",
            "\u001b[1m30/30\u001b[0m \u001b[32m━━━━━━━━━━━━━━━━━━━━\u001b[0m\u001b[37m\u001b[0m \u001b[1m0s\u001b[0m 4ms/step - attrition_output_accuracy: 0.8553 - attrition_output_loss: 0.3373 - department_output_accuracy: 0.7144 - department_output_loss: 0.6177 - loss: 0.9545 - val_attrition_output_accuracy: 0.7924 - val_attrition_output_loss: 0.4612 - val_department_output_accuracy: 0.6525 - val_department_output_loss: 0.7886 - val_loss: 1.2856\n",
            "Epoch 12/100\n",
            "\u001b[1m30/30\u001b[0m \u001b[32m━━━━━━━━━━━━━━━━━━━━\u001b[0m\u001b[37m\u001b[0m \u001b[1m0s\u001b[0m 4ms/step - attrition_output_accuracy: 0.8618 - attrition_output_loss: 0.3431 - department_output_accuracy: 0.7054 - department_output_loss: 0.6481 - loss: 0.9914 - val_attrition_output_accuracy: 0.7966 - val_attrition_output_loss: 0.4643 - val_department_output_accuracy: 0.6610 - val_department_output_loss: 0.7888 - val_loss: 1.2872\n",
            "Epoch 13/100\n",
            "\u001b[1m30/30\u001b[0m \u001b[32m━━━━━━━━━━━━━━━━━━━━\u001b[0m\u001b[37m\u001b[0m \u001b[1m0s\u001b[0m 4ms/step - attrition_output_accuracy: 0.8513 - attrition_output_loss: 0.3508 - department_output_accuracy: 0.7396 - department_output_loss: 0.5809 - loss: 0.9315 - val_attrition_output_accuracy: 0.7924 - val_attrition_output_loss: 0.4866 - val_department_output_accuracy: 0.6483 - val_department_output_loss: 0.7871 - val_loss: 1.3044\n",
            "Epoch 14/100\n",
            "\u001b[1m30/30\u001b[0m \u001b[32m━━━━━━━━━━━━━━━━━━━━\u001b[0m\u001b[37m\u001b[0m \u001b[1m0s\u001b[0m 4ms/step - attrition_output_accuracy: 0.8602 - attrition_output_loss: 0.3248 - department_output_accuracy: 0.7390 - department_output_loss: 0.5936 - loss: 0.9183 - val_attrition_output_accuracy: 0.7924 - val_attrition_output_loss: 0.4609 - val_department_output_accuracy: 0.6059 - val_department_output_loss: 0.7903 - val_loss: 1.2805\n",
            "Epoch 15/100\n",
            "\u001b[1m30/30\u001b[0m \u001b[32m━━━━━━━━━━━━━━━━━━━━\u001b[0m\u001b[37m\u001b[0m \u001b[1m0s\u001b[0m 4ms/step - attrition_output_accuracy: 0.8801 - attrition_output_loss: 0.2974 - department_output_accuracy: 0.7156 - department_output_loss: 0.5976 - loss: 0.8950 - val_attrition_output_accuracy: 0.7839 - val_attrition_output_loss: 0.4730 - val_department_output_accuracy: 0.6398 - val_department_output_loss: 0.8057 - val_loss: 1.3112\n",
            "Epoch 16/100\n",
            "\u001b[1m30/30\u001b[0m \u001b[32m━━━━━━━━━━━━━━━━━━━━\u001b[0m\u001b[37m\u001b[0m \u001b[1m0s\u001b[0m 4ms/step - attrition_output_accuracy: 0.8669 - attrition_output_loss: 0.3328 - department_output_accuracy: 0.7655 - department_output_loss: 0.5392 - loss: 0.8719 - val_attrition_output_accuracy: 0.7839 - val_attrition_output_loss: 0.4872 - val_department_output_accuracy: 0.6271 - val_department_output_loss: 0.8007 - val_loss: 1.3183\n",
            "Epoch 17/100\n",
            "\u001b[1m30/30\u001b[0m \u001b[32m━━━━━━━━━━━━━━━━━━━━\u001b[0m\u001b[37m\u001b[0m \u001b[1m0s\u001b[0m 4ms/step - attrition_output_accuracy: 0.8871 - attrition_output_loss: 0.2788 - department_output_accuracy: 0.7425 - department_output_loss: 0.5767 - loss: 0.8556 - val_attrition_output_accuracy: 0.7881 - val_attrition_output_loss: 0.4768 - val_department_output_accuracy: 0.6314 - val_department_output_loss: 0.8205 - val_loss: 1.3357\n",
            "Epoch 18/100\n",
            "\u001b[1m30/30\u001b[0m \u001b[32m━━━━━━━━━━━━━━━━━━━━\u001b[0m\u001b[37m\u001b[0m \u001b[1m0s\u001b[0m 4ms/step - attrition_output_accuracy: 0.8777 - attrition_output_loss: 0.2957 - department_output_accuracy: 0.7526 - department_output_loss: 0.5647 - loss: 0.8602 - val_attrition_output_accuracy: 0.8008 - val_attrition_output_loss: 0.5083 - val_department_output_accuracy: 0.6102 - val_department_output_loss: 0.8094 - val_loss: 1.3500\n",
            "Epoch 19/100\n",
            "\u001b[1m30/30\u001b[0m \u001b[32m━━━━━━━━━━━━━━━━━━━━\u001b[0m\u001b[37m\u001b[0m \u001b[1m0s\u001b[0m 4ms/step - attrition_output_accuracy: 0.8886 - attrition_output_loss: 0.2818 - department_output_accuracy: 0.7797 - department_output_loss: 0.5305 - loss: 0.8126 - val_attrition_output_accuracy: 0.7839 - val_attrition_output_loss: 0.5003 - val_department_output_accuracy: 0.6314 - val_department_output_loss: 0.8269 - val_loss: 1.3619\n",
            "Epoch 20/100\n",
            "\u001b[1m30/30\u001b[0m \u001b[32m━━━━━━━━━━━━━━━━━━━━\u001b[0m\u001b[37m\u001b[0m \u001b[1m0s\u001b[0m 4ms/step - attrition_output_accuracy: 0.8834 - attrition_output_loss: 0.2866 - department_output_accuracy: 0.7875 - department_output_loss: 0.5078 - loss: 0.7947 - val_attrition_output_accuracy: 0.7839 - val_attrition_output_loss: 0.5128 - val_department_output_accuracy: 0.6398 - val_department_output_loss: 0.8719 - val_loss: 1.4229\n",
            "Epoch 21/100\n",
            "\u001b[1m30/30\u001b[0m \u001b[32m━━━━━━━━━━━━━━━━━━━━\u001b[0m\u001b[37m\u001b[0m \u001b[1m0s\u001b[0m 4ms/step - attrition_output_accuracy: 0.8947 - attrition_output_loss: 0.2517 - department_output_accuracy: 0.7898 - department_output_loss: 0.4817 - loss: 0.7337 - val_attrition_output_accuracy: 0.7881 - val_attrition_output_loss: 0.5229 - val_department_output_accuracy: 0.6356 - val_department_output_loss: 0.8283 - val_loss: 1.3859\n",
            "Epoch 22/100\n",
            "\u001b[1m30/30\u001b[0m \u001b[32m━━━━━━━━━━━━━━━━━━━━\u001b[0m\u001b[37m\u001b[0m \u001b[1m0s\u001b[0m 4ms/step - attrition_output_accuracy: 0.8910 - attrition_output_loss: 0.2588 - department_output_accuracy: 0.8155 - department_output_loss: 0.4684 - loss: 0.7272 - val_attrition_output_accuracy: 0.7839 - val_attrition_output_loss: 0.5140 - val_department_output_accuracy: 0.6229 - val_department_output_loss: 0.8579 - val_loss: 1.4063\n",
            "Epoch 23/100\n",
            "\u001b[1m30/30\u001b[0m \u001b[32m━━━━━━━━━━━━━━━━━━━━\u001b[0m\u001b[37m\u001b[0m \u001b[1m0s\u001b[0m 4ms/step - attrition_output_accuracy: 0.9087 - attrition_output_loss: 0.2438 - department_output_accuracy: 0.8023 - department_output_loss: 0.4740 - loss: 0.7171 - val_attrition_output_accuracy: 0.8008 - val_attrition_output_loss: 0.5470 - val_department_output_accuracy: 0.6398 - val_department_output_loss: 0.8875 - val_loss: 1.4693\n",
            "Epoch 24/100\n",
            "\u001b[1m30/30\u001b[0m \u001b[32m━━━━━━━━━━━━━━━━━━━━\u001b[0m\u001b[37m\u001b[0m \u001b[1m0s\u001b[0m 4ms/step - attrition_output_accuracy: 0.8931 - attrition_output_loss: 0.2631 - department_output_accuracy: 0.7981 - department_output_loss: 0.4762 - loss: 0.7396 - val_attrition_output_accuracy: 0.7797 - val_attrition_output_loss: 0.5121 - val_department_output_accuracy: 0.6229 - val_department_output_loss: 0.8972 - val_loss: 1.4490\n",
            "Epoch 25/100\n",
            "\u001b[1m30/30\u001b[0m \u001b[32m━━━━━━━━━━━━━━━━━━━━\u001b[0m\u001b[37m\u001b[0m \u001b[1m0s\u001b[0m 4ms/step - attrition_output_accuracy: 0.9174 - attrition_output_loss: 0.2248 - department_output_accuracy: 0.8302 - department_output_loss: 0.4082 - loss: 0.6327 - val_attrition_output_accuracy: 0.8008 - val_attrition_output_loss: 0.5410 - val_department_output_accuracy: 0.6271 - val_department_output_loss: 0.8915 - val_loss: 1.4667\n",
            "Epoch 26/100\n",
            "\u001b[1m30/30\u001b[0m \u001b[32m━━━━━━━━━━━━━━━━━━━━\u001b[0m\u001b[37m\u001b[0m \u001b[1m0s\u001b[0m 5ms/step - attrition_output_accuracy: 0.9113 - attrition_output_loss: 0.2266 - department_output_accuracy: 0.8380 - department_output_loss: 0.4013 - loss: 0.6278 - val_attrition_output_accuracy: 0.7839 - val_attrition_output_loss: 0.5224 - val_department_output_accuracy: 0.6525 - val_department_output_loss: 0.9023 - val_loss: 1.4635\n",
            "Epoch 27/100\n",
            "\u001b[1m30/30\u001b[0m \u001b[32m━━━━━━━━━━━━━━━━━━━━\u001b[0m\u001b[37m\u001b[0m \u001b[1m0s\u001b[0m 5ms/step - attrition_output_accuracy: 0.9156 - attrition_output_loss: 0.2310 - department_output_accuracy: 0.8430 - department_output_loss: 0.3973 - loss: 0.6286 - val_attrition_output_accuracy: 0.7797 - val_attrition_output_loss: 0.5359 - val_department_output_accuracy: 0.5975 - val_department_output_loss: 0.9388 - val_loss: 1.5110\n",
            "Epoch 28/100\n",
            "\u001b[1m30/30\u001b[0m \u001b[32m━━━━━━━━━━━━━━━━━━━━\u001b[0m\u001b[37m\u001b[0m \u001b[1m0s\u001b[0m 5ms/step - attrition_output_accuracy: 0.8974 - attrition_output_loss: 0.2218 - department_output_accuracy: 0.8271 - department_output_loss: 0.4134 - loss: 0.6353 - val_attrition_output_accuracy: 0.7966 - val_attrition_output_loss: 0.5264 - val_department_output_accuracy: 0.6229 - val_department_output_loss: 0.9897 - val_loss: 1.5550\n",
            "Epoch 29/100\n",
            "\u001b[1m30/30\u001b[0m \u001b[32m━━━━━━━━━━━━━━━━━━━━\u001b[0m\u001b[37m\u001b[0m \u001b[1m0s\u001b[0m 4ms/step - attrition_output_accuracy: 0.9204 - attrition_output_loss: 0.2232 - department_output_accuracy: 0.8338 - department_output_loss: 0.3848 - loss: 0.6077 - val_attrition_output_accuracy: 0.7881 - val_attrition_output_loss: 0.5741 - val_department_output_accuracy: 0.6186 - val_department_output_loss: 0.9767 - val_loss: 1.5938\n",
            "Epoch 30/100\n",
            "\u001b[1m30/30\u001b[0m \u001b[32m━━━━━━━━━━━━━━━━━━━━\u001b[0m\u001b[37m\u001b[0m \u001b[1m0s\u001b[0m 5ms/step - attrition_output_accuracy: 0.9276 - attrition_output_loss: 0.2113 - department_output_accuracy: 0.8621 - department_output_loss: 0.3610 - loss: 0.5715 - val_attrition_output_accuracy: 0.7881 - val_attrition_output_loss: 0.5657 - val_department_output_accuracy: 0.6186 - val_department_output_loss: 1.0075 - val_loss: 1.6119\n",
            "Epoch 31/100\n",
            "\u001b[1m30/30\u001b[0m \u001b[32m━━━━━━━━━━━━━━━━━━━━\u001b[0m\u001b[37m\u001b[0m \u001b[1m0s\u001b[0m 5ms/step - attrition_output_accuracy: 0.9087 - attrition_output_loss: 0.2139 - department_output_accuracy: 0.8571 - department_output_loss: 0.3699 - loss: 0.5840 - val_attrition_output_accuracy: 0.7924 - val_attrition_output_loss: 0.6000 - val_department_output_accuracy: 0.6398 - val_department_output_loss: 1.0617 - val_loss: 1.7082\n",
            "Epoch 32/100\n",
            "\u001b[1m30/30\u001b[0m \u001b[32m━━━━━━━━━━━━━━━━━━━━\u001b[0m\u001b[37m\u001b[0m \u001b[1m0s\u001b[0m 4ms/step - attrition_output_accuracy: 0.9051 - attrition_output_loss: 0.2143 - department_output_accuracy: 0.8583 - department_output_loss: 0.3470 - loss: 0.5613 - val_attrition_output_accuracy: 0.7754 - val_attrition_output_loss: 0.5832 - val_department_output_accuracy: 0.6229 - val_department_output_loss: 1.0755 - val_loss: 1.7011\n",
            "Epoch 33/100\n",
            "\u001b[1m30/30\u001b[0m \u001b[32m━━━━━━━━━━━━━━━━━━━━\u001b[0m\u001b[37m\u001b[0m \u001b[1m0s\u001b[0m 4ms/step - attrition_output_accuracy: 0.9279 - attrition_output_loss: 0.1862 - department_output_accuracy: 0.8768 - department_output_loss: 0.3239 - loss: 0.5103 - val_attrition_output_accuracy: 0.7585 - val_attrition_output_loss: 0.5751 - val_department_output_accuracy: 0.6229 - val_department_output_loss: 1.0675 - val_loss: 1.6954\n",
            "Epoch 34/100\n",
            "\u001b[1m30/30\u001b[0m \u001b[32m━━━━━━━━━━━━━━━━━━━━\u001b[0m\u001b[37m\u001b[0m \u001b[1m0s\u001b[0m 4ms/step - attrition_output_accuracy: 0.9291 - attrition_output_loss: 0.1889 - department_output_accuracy: 0.8882 - department_output_loss: 0.3198 - loss: 0.5088 - val_attrition_output_accuracy: 0.8093 - val_attrition_output_loss: 0.6434 - val_department_output_accuracy: 0.6186 - val_department_output_loss: 1.0830 - val_loss: 1.7784\n",
            "Epoch 35/100\n",
            "\u001b[1m30/30\u001b[0m \u001b[32m━━━━━━━━━━━━━━━━━━━━\u001b[0m\u001b[37m\u001b[0m \u001b[1m0s\u001b[0m 4ms/step - attrition_output_accuracy: 0.9344 - attrition_output_loss: 0.1823 - department_output_accuracy: 0.8809 - department_output_loss: 0.3103 - loss: 0.4926 - val_attrition_output_accuracy: 0.8051 - val_attrition_output_loss: 0.6164 - val_department_output_accuracy: 0.6186 - val_department_output_loss: 1.1016 - val_loss: 1.7621\n",
            "Epoch 36/100\n",
            "\u001b[1m30/30\u001b[0m \u001b[32m━━━━━━━━━━━━━━━━━━━━\u001b[0m\u001b[37m\u001b[0m \u001b[1m0s\u001b[0m 4ms/step - attrition_output_accuracy: 0.9480 - attrition_output_loss: 0.1558 - department_output_accuracy: 0.8992 - department_output_loss: 0.2908 - loss: 0.4464 - val_attrition_output_accuracy: 0.7754 - val_attrition_output_loss: 0.6485 - val_department_output_accuracy: 0.6186 - val_department_output_loss: 1.0924 - val_loss: 1.7832\n",
            "Epoch 37/100\n",
            "\u001b[1m30/30\u001b[0m \u001b[32m━━━━━━━━━━━━━━━━━━━━\u001b[0m\u001b[37m\u001b[0m \u001b[1m0s\u001b[0m 5ms/step - attrition_output_accuracy: 0.9344 - attrition_output_loss: 0.1599 - department_output_accuracy: 0.8975 - department_output_loss: 0.2859 - loss: 0.4459 - val_attrition_output_accuracy: 0.7458 - val_attrition_output_loss: 0.6103 - val_department_output_accuracy: 0.6102 - val_department_output_loss: 1.1658 - val_loss: 1.8161\n",
            "Epoch 38/100\n",
            "\u001b[1m30/30\u001b[0m \u001b[32m━━━━━━━━━━━━━━━━━━━━\u001b[0m\u001b[37m\u001b[0m \u001b[1m0s\u001b[0m 4ms/step - attrition_output_accuracy: 0.9505 - attrition_output_loss: 0.1633 - department_output_accuracy: 0.9109 - department_output_loss: 0.2816 - loss: 0.4448 - val_attrition_output_accuracy: 0.8008 - val_attrition_output_loss: 0.7045 - val_department_output_accuracy: 0.6186 - val_department_output_loss: 1.2067 - val_loss: 1.9610\n",
            "Epoch 39/100\n",
            "\u001b[1m30/30\u001b[0m \u001b[32m━━━━━━━━━━━━━━━━━━━━\u001b[0m\u001b[37m\u001b[0m \u001b[1m0s\u001b[0m 4ms/step - attrition_output_accuracy: 0.9330 - attrition_output_loss: 0.1552 - department_output_accuracy: 0.9125 - department_output_loss: 0.2552 - loss: 0.4103 - val_attrition_output_accuracy: 0.7966 - val_attrition_output_loss: 0.6827 - val_department_output_accuracy: 0.6144 - val_department_output_loss: 1.2356 - val_loss: 1.9666\n",
            "Epoch 40/100\n",
            "\u001b[1m30/30\u001b[0m \u001b[32m━━━━━━━━━━━━━━━━━━━━\u001b[0m\u001b[37m\u001b[0m \u001b[1m0s\u001b[0m 4ms/step - attrition_output_accuracy: 0.9371 - attrition_output_loss: 0.1438 - department_output_accuracy: 0.9137 - department_output_loss: 0.2505 - loss: 0.3939 - val_attrition_output_accuracy: 0.7797 - val_attrition_output_loss: 0.6934 - val_department_output_accuracy: 0.5975 - val_department_output_loss: 1.1980 - val_loss: 1.9419\n",
            "Epoch 41/100\n",
            "\u001b[1m30/30\u001b[0m \u001b[32m━━━━━━━━━━━━━━━━━━━━\u001b[0m\u001b[37m\u001b[0m \u001b[1m0s\u001b[0m 4ms/step - attrition_output_accuracy: 0.9663 - attrition_output_loss: 0.1199 - department_output_accuracy: 0.9105 - department_output_loss: 0.2385 - loss: 0.3584 - val_attrition_output_accuracy: 0.7797 - val_attrition_output_loss: 0.6490 - val_department_output_accuracy: 0.5975 - val_department_output_loss: 1.2871 - val_loss: 1.9817\n",
            "Epoch 42/100\n",
            "\u001b[1m30/30\u001b[0m \u001b[32m━━━━━━━━━━━━━━━━━━━━\u001b[0m\u001b[37m\u001b[0m \u001b[1m0s\u001b[0m 4ms/step - attrition_output_accuracy: 0.9558 - attrition_output_loss: 0.1282 - department_output_accuracy: 0.9155 - department_output_loss: 0.2397 - loss: 0.3675 - val_attrition_output_accuracy: 0.7924 - val_attrition_output_loss: 0.7036 - val_department_output_accuracy: 0.6186 - val_department_output_loss: 1.2719 - val_loss: 2.0282\n",
            "Epoch 43/100\n",
            "\u001b[1m30/30\u001b[0m \u001b[32m━━━━━━━━━━━━━━━━━━━━\u001b[0m\u001b[37m\u001b[0m \u001b[1m0s\u001b[0m 4ms/step - attrition_output_accuracy: 0.9604 - attrition_output_loss: 0.1124 - department_output_accuracy: 0.9375 - department_output_loss: 0.1991 - loss: 0.3115 - val_attrition_output_accuracy: 0.7839 - val_attrition_output_loss: 0.6868 - val_department_output_accuracy: 0.6102 - val_department_output_loss: 1.2856 - val_loss: 2.0225\n",
            "Epoch 44/100\n",
            "\u001b[1m30/30\u001b[0m \u001b[32m━━━━━━━━━━━━━━━━━━━━\u001b[0m\u001b[37m\u001b[0m \u001b[1m0s\u001b[0m 4ms/step - attrition_output_accuracy: 0.9571 - attrition_output_loss: 0.1128 - department_output_accuracy: 0.9380 - department_output_loss: 0.2133 - loss: 0.3264 - val_attrition_output_accuracy: 0.8051 - val_attrition_output_loss: 0.7653 - val_department_output_accuracy: 0.6059 - val_department_output_loss: 1.2890 - val_loss: 2.0901\n",
            "Epoch 45/100\n",
            "\u001b[1m30/30\u001b[0m \u001b[32m━━━━━━━━━━━━━━━━━━━━\u001b[0m\u001b[37m\u001b[0m \u001b[1m0s\u001b[0m 4ms/step - attrition_output_accuracy: 0.9522 - attrition_output_loss: 0.1212 - department_output_accuracy: 0.9465 - department_output_loss: 0.1894 - loss: 0.3105 - val_attrition_output_accuracy: 0.7331 - val_attrition_output_loss: 0.7365 - val_department_output_accuracy: 0.6059 - val_department_output_loss: 1.3344 - val_loss: 2.1296\n",
            "Epoch 46/100\n",
            "\u001b[1m30/30\u001b[0m \u001b[32m━━━━━━━━━━━━━━━━━━━━\u001b[0m\u001b[37m\u001b[0m \u001b[1m0s\u001b[0m 4ms/step - attrition_output_accuracy: 0.9633 - attrition_output_loss: 0.1306 - department_output_accuracy: 0.9436 - department_output_loss: 0.2068 - loss: 0.3376 - val_attrition_output_accuracy: 0.7712 - val_attrition_output_loss: 0.7598 - val_department_output_accuracy: 0.6271 - val_department_output_loss: 1.3154 - val_loss: 2.1366\n",
            "Epoch 47/100\n",
            "\u001b[1m30/30\u001b[0m \u001b[32m━━━━━━━━━━━━━━━━━━━━\u001b[0m\u001b[37m\u001b[0m \u001b[1m0s\u001b[0m 4ms/step - attrition_output_accuracy: 0.9695 - attrition_output_loss: 0.1019 - department_output_accuracy: 0.9551 - department_output_loss: 0.1900 - loss: 0.2920 - val_attrition_output_accuracy: 0.7627 - val_attrition_output_loss: 0.7736 - val_department_output_accuracy: 0.6102 - val_department_output_loss: 1.4116 - val_loss: 2.2331\n",
            "Epoch 48/100\n",
            "\u001b[1m30/30\u001b[0m \u001b[32m━━━━━━━━━━━━━━━━━━━━\u001b[0m\u001b[37m\u001b[0m \u001b[1m0s\u001b[0m 4ms/step - attrition_output_accuracy: 0.9680 - attrition_output_loss: 0.0997 - department_output_accuracy: 0.9639 - department_output_loss: 0.1589 - loss: 0.2586 - val_attrition_output_accuracy: 0.7754 - val_attrition_output_loss: 0.7954 - val_department_output_accuracy: 0.6229 - val_department_output_loss: 1.4529 - val_loss: 2.2992\n",
            "Epoch 49/100\n",
            "\u001b[1m30/30\u001b[0m \u001b[32m━━━━━━━━━━━━━━━━━━━━\u001b[0m\u001b[37m\u001b[0m \u001b[1m0s\u001b[0m 5ms/step - attrition_output_accuracy: 0.9735 - attrition_output_loss: 0.0866 - department_output_accuracy: 0.9587 - department_output_loss: 0.1621 - loss: 0.2489 - val_attrition_output_accuracy: 0.7712 - val_attrition_output_loss: 0.7848 - val_department_output_accuracy: 0.6102 - val_department_output_loss: 1.4706 - val_loss: 2.3120\n",
            "Epoch 50/100\n",
            "\u001b[1m30/30\u001b[0m \u001b[32m━━━━━━━━━━━━━━━━━━━━\u001b[0m\u001b[37m\u001b[0m \u001b[1m0s\u001b[0m 5ms/step - attrition_output_accuracy: 0.9818 - attrition_output_loss: 0.0893 - department_output_accuracy: 0.9556 - department_output_loss: 0.1521 - loss: 0.2414 - val_attrition_output_accuracy: 0.7881 - val_attrition_output_loss: 0.8702 - val_department_output_accuracy: 0.6229 - val_department_output_loss: 1.4876 - val_loss: 2.4066\n",
            "Epoch 51/100\n",
            "\u001b[1m30/30\u001b[0m \u001b[32m━━━━━━━━━━━━━━━━━━━━\u001b[0m\u001b[37m\u001b[0m \u001b[1m0s\u001b[0m 4ms/step - attrition_output_accuracy: 0.9807 - attrition_output_loss: 0.0777 - department_output_accuracy: 0.9512 - department_output_loss: 0.1536 - loss: 0.2311 - val_attrition_output_accuracy: 0.7881 - val_attrition_output_loss: 0.8238 - val_department_output_accuracy: 0.6017 - val_department_output_loss: 1.4576 - val_loss: 2.3406\n",
            "Epoch 52/100\n",
            "\u001b[1m30/30\u001b[0m \u001b[32m━━━━━━━━━━━━━━━━━━━━\u001b[0m\u001b[37m\u001b[0m \u001b[1m0s\u001b[0m 4ms/step - attrition_output_accuracy: 0.9771 - attrition_output_loss: 0.0830 - department_output_accuracy: 0.9768 - department_output_loss: 0.1363 - loss: 0.2192 - val_attrition_output_accuracy: 0.7415 - val_attrition_output_loss: 0.8501 - val_department_output_accuracy: 0.6144 - val_department_output_loss: 1.5023 - val_loss: 2.4204\n",
            "Epoch 53/100\n",
            "\u001b[1m30/30\u001b[0m \u001b[32m━━━━━━━━━━━━━━━━━━━━\u001b[0m\u001b[37m\u001b[0m \u001b[1m0s\u001b[0m 4ms/step - attrition_output_accuracy: 0.9787 - attrition_output_loss: 0.0774 - department_output_accuracy: 0.9670 - department_output_loss: 0.1311 - loss: 0.2086 - val_attrition_output_accuracy: 0.7754 - val_attrition_output_loss: 0.8900 - val_department_output_accuracy: 0.6059 - val_department_output_loss: 1.5099 - val_loss: 2.4600\n",
            "Epoch 54/100\n",
            "\u001b[1m30/30\u001b[0m \u001b[32m━━━━━━━━━━━━━━━━━━━━\u001b[0m\u001b[37m\u001b[0m \u001b[1m0s\u001b[0m 4ms/step - attrition_output_accuracy: 0.9855 - attrition_output_loss: 0.0650 - department_output_accuracy: 0.9812 - department_output_loss: 0.1189 - loss: 0.1839 - val_attrition_output_accuracy: 0.7712 - val_attrition_output_loss: 0.8930 - val_department_output_accuracy: 0.6144 - val_department_output_loss: 1.5353 - val_loss: 2.4943\n",
            "Epoch 55/100\n",
            "\u001b[1m30/30\u001b[0m \u001b[32m━━━━━━━━━━━━━━━━━━━━\u001b[0m\u001b[37m\u001b[0m \u001b[1m0s\u001b[0m 4ms/step - attrition_output_accuracy: 0.9904 - attrition_output_loss: 0.0530 - department_output_accuracy: 0.9743 - department_output_loss: 0.1225 - loss: 0.1755 - val_attrition_output_accuracy: 0.7712 - val_attrition_output_loss: 0.9033 - val_department_output_accuracy: 0.6059 - val_department_output_loss: 1.5749 - val_loss: 2.5385\n",
            "Epoch 56/100\n",
            "\u001b[1m30/30\u001b[0m \u001b[32m━━━━━━━━━━━━━━━━━━━━\u001b[0m\u001b[37m\u001b[0m \u001b[1m0s\u001b[0m 5ms/step - attrition_output_accuracy: 0.9834 - attrition_output_loss: 0.0583 - department_output_accuracy: 0.9869 - department_output_loss: 0.1062 - loss: 0.1642 - val_attrition_output_accuracy: 0.7754 - val_attrition_output_loss: 0.9324 - val_department_output_accuracy: 0.6144 - val_department_output_loss: 1.6214 - val_loss: 2.6201\n",
            "Epoch 57/100\n",
            "\u001b[1m30/30\u001b[0m \u001b[32m━━━━━━━━━━━━━━━━━━━━\u001b[0m\u001b[37m\u001b[0m \u001b[1m0s\u001b[0m 5ms/step - attrition_output_accuracy: 0.9911 - attrition_output_loss: 0.0581 - department_output_accuracy: 0.9835 - department_output_loss: 0.1121 - loss: 0.1701 - val_attrition_output_accuracy: 0.7797 - val_attrition_output_loss: 0.9333 - val_department_output_accuracy: 0.6144 - val_department_output_loss: 1.7200 - val_loss: 2.7259\n",
            "Epoch 58/100\n",
            "\u001b[1m30/30\u001b[0m \u001b[32m━━━━━━━━━━━━━━━━━━━━\u001b[0m\u001b[37m\u001b[0m \u001b[1m0s\u001b[0m 4ms/step - attrition_output_accuracy: 0.9863 - attrition_output_loss: 0.0611 - department_output_accuracy: 0.9783 - department_output_loss: 0.1044 - loss: 0.1656 - val_attrition_output_accuracy: 0.7966 - val_attrition_output_loss: 0.9829 - val_department_output_accuracy: 0.6102 - val_department_output_loss: 1.6409 - val_loss: 2.6963\n",
            "Epoch 59/100\n",
            "\u001b[1m30/30\u001b[0m \u001b[32m━━━━━━━━━━━━━━━━━━━━\u001b[0m\u001b[37m\u001b[0m \u001b[1m0s\u001b[0m 4ms/step - attrition_output_accuracy: 0.9852 - attrition_output_loss: 0.0536 - department_output_accuracy: 0.9861 - department_output_loss: 0.0975 - loss: 0.1511 - val_attrition_output_accuracy: 0.7712 - val_attrition_output_loss: 0.9647 - val_department_output_accuracy: 0.5975 - val_department_output_loss: 1.7104 - val_loss: 2.7472\n",
            "Epoch 60/100\n",
            "\u001b[1m30/30\u001b[0m \u001b[32m━━━━━━━━━━━━━━━━━━━━\u001b[0m\u001b[37m\u001b[0m \u001b[1m0s\u001b[0m 4ms/step - attrition_output_accuracy: 0.9969 - attrition_output_loss: 0.0441 - department_output_accuracy: 0.9861 - department_output_loss: 0.0856 - loss: 0.1296 - val_attrition_output_accuracy: 0.7797 - val_attrition_output_loss: 0.9910 - val_department_output_accuracy: 0.6102 - val_department_output_loss: 1.6654 - val_loss: 2.7329\n",
            "Epoch 61/100\n",
            "\u001b[1m30/30\u001b[0m \u001b[32m━━━━━━━━━━━━━━━━━━━━\u001b[0m\u001b[37m\u001b[0m \u001b[1m0s\u001b[0m 4ms/step - attrition_output_accuracy: 0.9891 - attrition_output_loss: 0.0468 - department_output_accuracy: 0.9665 - department_output_loss: 0.1075 - loss: 0.1543 - val_attrition_output_accuracy: 0.7712 - val_attrition_output_loss: 1.0269 - val_department_output_accuracy: 0.6102 - val_department_output_loss: 1.7341 - val_loss: 2.8394\n",
            "Epoch 62/100\n",
            "\u001b[1m30/30\u001b[0m \u001b[32m━━━━━━━━━━━━━━━━━━━━\u001b[0m\u001b[37m\u001b[0m \u001b[1m0s\u001b[0m 5ms/step - attrition_output_accuracy: 0.9946 - attrition_output_loss: 0.0349 - department_output_accuracy: 0.9813 - department_output_loss: 0.1076 - loss: 0.1425 - val_attrition_output_accuracy: 0.7627 - val_attrition_output_loss: 1.0089 - val_department_output_accuracy: 0.6102 - val_department_output_loss: 1.8082 - val_loss: 2.9091\n",
            "Epoch 63/100\n",
            "\u001b[1m30/30\u001b[0m \u001b[32m━━━━━━━━━━━━━━━━━━━━\u001b[0m\u001b[37m\u001b[0m \u001b[1m0s\u001b[0m 5ms/step - attrition_output_accuracy: 0.9921 - attrition_output_loss: 0.0463 - department_output_accuracy: 0.9795 - department_output_loss: 0.0904 - loss: 0.1368 - val_attrition_output_accuracy: 0.7881 - val_attrition_output_loss: 1.0909 - val_department_output_accuracy: 0.5932 - val_department_output_loss: 1.7954 - val_loss: 2.9535\n",
            "Epoch 64/100\n",
            "\u001b[1m30/30\u001b[0m \u001b[32m━━━━━━━━━━━━━━━━━━━━\u001b[0m\u001b[37m\u001b[0m \u001b[1m0s\u001b[0m 5ms/step - attrition_output_accuracy: 0.9891 - attrition_output_loss: 0.0469 - department_output_accuracy: 0.9931 - department_output_loss: 0.0722 - loss: 0.1191 - val_attrition_output_accuracy: 0.7712 - val_attrition_output_loss: 1.0773 - val_department_output_accuracy: 0.6059 - val_department_output_loss: 1.8480 - val_loss: 3.0107\n",
            "Epoch 65/100\n",
            "\u001b[1m30/30\u001b[0m \u001b[32m━━━━━━━━━━━━━━━━━━━━\u001b[0m\u001b[37m\u001b[0m \u001b[1m0s\u001b[0m 4ms/step - attrition_output_accuracy: 0.9933 - attrition_output_loss: 0.0395 - department_output_accuracy: 0.9909 - department_output_loss: 0.0689 - loss: 0.1083 - val_attrition_output_accuracy: 0.7881 - val_attrition_output_loss: 1.1188 - val_department_output_accuracy: 0.6059 - val_department_output_loss: 1.8692 - val_loss: 3.0845\n",
            "Epoch 66/100\n",
            "\u001b[1m30/30\u001b[0m \u001b[32m━━━━━━━━━━━━━━━━━━━━\u001b[0m\u001b[37m\u001b[0m \u001b[1m0s\u001b[0m 4ms/step - attrition_output_accuracy: 0.9925 - attrition_output_loss: 0.0374 - department_output_accuracy: 0.9955 - department_output_loss: 0.0677 - loss: 0.1052 - val_attrition_output_accuracy: 0.7669 - val_attrition_output_loss: 1.1096 - val_department_output_accuracy: 0.6102 - val_department_output_loss: 1.9250 - val_loss: 3.1110\n",
            "Epoch 67/100\n",
            "\u001b[1m30/30\u001b[0m \u001b[32m━━━━━━━━━━━━━━━━━━━━\u001b[0m\u001b[37m\u001b[0m \u001b[1m0s\u001b[0m 4ms/step - attrition_output_accuracy: 0.9957 - attrition_output_loss: 0.0313 - department_output_accuracy: 0.9961 - department_output_loss: 0.0559 - loss: 0.0873 - val_attrition_output_accuracy: 0.7797 - val_attrition_output_loss: 1.1419 - val_department_output_accuracy: 0.6102 - val_department_output_loss: 1.9492 - val_loss: 3.1795\n",
            "Epoch 68/100\n",
            "\u001b[1m30/30\u001b[0m \u001b[32m━━━━━━━━━━━━━━━━━━━━\u001b[0m\u001b[37m\u001b[0m \u001b[1m0s\u001b[0m 4ms/step - attrition_output_accuracy: 0.9958 - attrition_output_loss: 0.0281 - department_output_accuracy: 0.9981 - department_output_loss: 0.0548 - loss: 0.0830 - val_attrition_output_accuracy: 0.7712 - val_attrition_output_loss: 1.1420 - val_department_output_accuracy: 0.5932 - val_department_output_loss: 1.9970 - val_loss: 3.2297\n",
            "Epoch 69/100\n",
            "\u001b[1m30/30\u001b[0m \u001b[32m━━━━━━━━━━━━━━━━━━━━\u001b[0m\u001b[37m\u001b[0m \u001b[1m0s\u001b[0m 5ms/step - attrition_output_accuracy: 0.9987 - attrition_output_loss: 0.0271 - department_output_accuracy: 0.9930 - department_output_loss: 0.0612 - loss: 0.0882 - val_attrition_output_accuracy: 0.7669 - val_attrition_output_loss: 1.2144 - val_department_output_accuracy: 0.5847 - val_department_output_loss: 2.0191 - val_loss: 3.3111\n",
            "Epoch 70/100\n",
            "\u001b[1m30/30\u001b[0m \u001b[32m━━━━━━━━━━━━━━━━━━━━\u001b[0m\u001b[37m\u001b[0m \u001b[1m0s\u001b[0m 5ms/step - attrition_output_accuracy: 0.9988 - attrition_output_loss: 0.0250 - department_output_accuracy: 0.9927 - department_output_loss: 0.0511 - loss: 0.0762 - val_attrition_output_accuracy: 0.7669 - val_attrition_output_loss: 1.2043 - val_department_output_accuracy: 0.5890 - val_department_output_loss: 2.0169 - val_loss: 3.2929\n",
            "Epoch 71/100\n",
            "\u001b[1m30/30\u001b[0m \u001b[32m━━━━━━━━━━━━━━━━━━━━\u001b[0m\u001b[37m\u001b[0m \u001b[1m0s\u001b[0m 5ms/step - attrition_output_accuracy: 0.9965 - attrition_output_loss: 0.0244 - department_output_accuracy: 0.9929 - department_output_loss: 0.0507 - loss: 0.0751 - val_attrition_output_accuracy: 0.7669 - val_attrition_output_loss: 1.1938 - val_department_output_accuracy: 0.5805 - val_department_output_loss: 2.0366 - val_loss: 3.3202\n",
            "Epoch 72/100\n",
            "\u001b[1m30/30\u001b[0m \u001b[32m━━━━━━━━━━━━━━━━━━━━\u001b[0m\u001b[37m\u001b[0m \u001b[1m0s\u001b[0m 4ms/step - attrition_output_accuracy: 0.9994 - attrition_output_loss: 0.0234 - department_output_accuracy: 0.9918 - department_output_loss: 0.0524 - loss: 0.0758 - val_attrition_output_accuracy: 0.7669 - val_attrition_output_loss: 1.2571 - val_department_output_accuracy: 0.5847 - val_department_output_loss: 2.1264 - val_loss: 3.4581\n",
            "Epoch 73/100\n",
            "\u001b[1m30/30\u001b[0m \u001b[32m━━━━━━━━━━━━━━━━━━━━\u001b[0m\u001b[37m\u001b[0m \u001b[1m0s\u001b[0m 4ms/step - attrition_output_accuracy: 0.9951 - attrition_output_loss: 0.0240 - department_output_accuracy: 0.9934 - department_output_loss: 0.0483 - loss: 0.0723 - val_attrition_output_accuracy: 0.7712 - val_attrition_output_loss: 1.2562 - val_department_output_accuracy: 0.5763 - val_department_output_loss: 2.1499 - val_loss: 3.4740\n",
            "Epoch 74/100\n",
            "\u001b[1m30/30\u001b[0m \u001b[32m━━━━━━━━━━━━━━━━━━━━\u001b[0m\u001b[37m\u001b[0m \u001b[1m0s\u001b[0m 5ms/step - attrition_output_accuracy: 0.9987 - attrition_output_loss: 0.0194 - department_output_accuracy: 0.9947 - department_output_loss: 0.0448 - loss: 0.0643 - val_attrition_output_accuracy: 0.7373 - val_attrition_output_loss: 1.2156 - val_department_output_accuracy: 0.6059 - val_department_output_loss: 2.1245 - val_loss: 3.4342\n",
            "Epoch 75/100\n",
            "\u001b[1m30/30\u001b[0m \u001b[32m━━━━━━━━━━━━━━━━━━━━\u001b[0m\u001b[37m\u001b[0m \u001b[1m0s\u001b[0m 5ms/step - attrition_output_accuracy: 0.9963 - attrition_output_loss: 0.0243 - department_output_accuracy: 0.9951 - department_output_loss: 0.0421 - loss: 0.0664 - val_attrition_output_accuracy: 0.7669 - val_attrition_output_loss: 1.3143 - val_department_output_accuracy: 0.6102 - val_department_output_loss: 2.1963 - val_loss: 3.5909\n",
            "Epoch 76/100\n",
            "\u001b[1m30/30\u001b[0m \u001b[32m━━━━━━━━━━━━━━━━━━━━\u001b[0m\u001b[37m\u001b[0m \u001b[1m0s\u001b[0m 4ms/step - attrition_output_accuracy: 0.9985 - attrition_output_loss: 0.0214 - department_output_accuracy: 0.9969 - department_output_loss: 0.0439 - loss: 0.0654 - val_attrition_output_accuracy: 0.7712 - val_attrition_output_loss: 1.3424 - val_department_output_accuracy: 0.5975 - val_department_output_loss: 2.3034 - val_loss: 3.7240\n",
            "Epoch 77/100\n",
            "\u001b[1m30/30\u001b[0m \u001b[32m━━━━━━━━━━━━━━━━━━━━\u001b[0m\u001b[37m\u001b[0m \u001b[1m0s\u001b[0m 5ms/step - attrition_output_accuracy: 0.9990 - attrition_output_loss: 0.0222 - department_output_accuracy: 0.9941 - department_output_loss: 0.0404 - loss: 0.0626 - val_attrition_output_accuracy: 0.7373 - val_attrition_output_loss: 1.3068 - val_department_output_accuracy: 0.5805 - val_department_output_loss: 2.2143 - val_loss: 3.6005\n",
            "Epoch 78/100\n",
            "\u001b[1m30/30\u001b[0m \u001b[32m━━━━━━━━━━━━━━━━━━━━\u001b[0m\u001b[37m\u001b[0m \u001b[1m0s\u001b[0m 5ms/step - attrition_output_accuracy: 0.9985 - attrition_output_loss: 0.0196 - department_output_accuracy: 0.9989 - department_output_loss: 0.0340 - loss: 0.0535 - val_attrition_output_accuracy: 0.7712 - val_attrition_output_loss: 1.3064 - val_department_output_accuracy: 0.5847 - val_department_output_loss: 2.2752 - val_loss: 3.6609\n",
            "Epoch 79/100\n",
            "\u001b[1m30/30\u001b[0m \u001b[32m━━━━━━━━━━━━━━━━━━━━\u001b[0m\u001b[37m\u001b[0m \u001b[1m0s\u001b[0m 5ms/step - attrition_output_accuracy: 0.9971 - attrition_output_loss: 0.0226 - department_output_accuracy: 0.9941 - department_output_loss: 0.0427 - loss: 0.0653 - val_attrition_output_accuracy: 0.7500 - val_attrition_output_loss: 1.3757 - val_department_output_accuracy: 0.5932 - val_department_output_loss: 2.2854 - val_loss: 3.7320\n",
            "Epoch 80/100\n",
            "\u001b[1m30/30\u001b[0m \u001b[32m━━━━━━━━━━━━━━━━━━━━\u001b[0m\u001b[37m\u001b[0m \u001b[1m0s\u001b[0m 5ms/step - attrition_output_accuracy: 0.9982 - attrition_output_loss: 0.0183 - department_output_accuracy: 0.9994 - department_output_loss: 0.0358 - loss: 0.0541 - val_attrition_output_accuracy: 0.7669 - val_attrition_output_loss: 1.3391 - val_department_output_accuracy: 0.5678 - val_department_output_loss: 2.3333 - val_loss: 3.7552\n",
            "Epoch 81/100\n",
            "\u001b[1m30/30\u001b[0m \u001b[32m━━━━━━━━━━━━━━━━━━━━\u001b[0m\u001b[37m\u001b[0m \u001b[1m0s\u001b[0m 5ms/step - attrition_output_accuracy: 0.9959 - attrition_output_loss: 0.0170 - department_output_accuracy: 0.9972 - department_output_loss: 0.0347 - loss: 0.0515 - val_attrition_output_accuracy: 0.7712 - val_attrition_output_loss: 1.3467 - val_department_output_accuracy: 0.6059 - val_department_output_loss: 2.3326 - val_loss: 3.7804\n",
            "Epoch 82/100\n",
            "\u001b[1m30/30\u001b[0m \u001b[32m━━━━━━━━━━━━━━━━━━━━\u001b[0m\u001b[37m\u001b[0m \u001b[1m0s\u001b[0m 5ms/step - attrition_output_accuracy: 0.9999 - attrition_output_loss: 0.0160 - department_output_accuracy: 0.9984 - department_output_loss: 0.0275 - loss: 0.0435 - val_attrition_output_accuracy: 0.7712 - val_attrition_output_loss: 1.3569 - val_department_output_accuracy: 0.5890 - val_department_output_loss: 2.3491 - val_loss: 3.7882\n",
            "Epoch 83/100\n",
            "\u001b[1m30/30\u001b[0m \u001b[32m━━━━━━━━━━━━━━━━━━━━\u001b[0m\u001b[37m\u001b[0m \u001b[1m0s\u001b[0m 5ms/step - attrition_output_accuracy: 1.0000 - attrition_output_loss: 0.0123 - department_output_accuracy: 0.9999 - department_output_loss: 0.0274 - loss: 0.0398 - val_attrition_output_accuracy: 0.7585 - val_attrition_output_loss: 1.4286 - val_department_output_accuracy: 0.5975 - val_department_output_loss: 2.3780 - val_loss: 3.8971\n",
            "Epoch 84/100\n",
            "\u001b[1m30/30\u001b[0m \u001b[32m━━━━━━━━━━━━━━━━━━━━\u001b[0m\u001b[37m\u001b[0m \u001b[1m0s\u001b[0m 4ms/step - attrition_output_accuracy: 0.9990 - attrition_output_loss: 0.0139 - department_output_accuracy: 0.9995 - department_output_loss: 0.0235 - loss: 0.0374 - val_attrition_output_accuracy: 0.7712 - val_attrition_output_loss: 1.4647 - val_department_output_accuracy: 0.5805 - val_department_output_loss: 2.3441 - val_loss: 3.9088\n",
            "Epoch 85/100\n",
            "\u001b[1m30/30\u001b[0m \u001b[32m━━━━━━━━━━━━━━━━━━━━\u001b[0m\u001b[37m\u001b[0m \u001b[1m0s\u001b[0m 5ms/step - attrition_output_accuracy: 0.9943 - attrition_output_loss: 0.0296 - department_output_accuracy: 0.9995 - department_output_loss: 0.0220 - loss: 0.0517 - val_attrition_output_accuracy: 0.7585 - val_attrition_output_loss: 1.4384 - val_department_output_accuracy: 0.5805 - val_department_output_loss: 2.4463 - val_loss: 3.9530\n",
            "Epoch 86/100\n",
            "\u001b[1m30/30\u001b[0m \u001b[32m━━━━━━━━━━━━━━━━━━━━\u001b[0m\u001b[37m\u001b[0m \u001b[1m0s\u001b[0m 4ms/step - attrition_output_accuracy: 0.9984 - attrition_output_loss: 0.0178 - department_output_accuracy: 0.9975 - department_output_loss: 0.0254 - loss: 0.0432 - val_attrition_output_accuracy: 0.7669 - val_attrition_output_loss: 1.4152 - val_department_output_accuracy: 0.5932 - val_department_output_loss: 2.4766 - val_loss: 3.9919\n",
            "Epoch 87/100\n",
            "\u001b[1m30/30\u001b[0m \u001b[32m━━━━━━━━━━━━━━━━━━━━\u001b[0m\u001b[37m\u001b[0m \u001b[1m0s\u001b[0m 5ms/step - attrition_output_accuracy: 0.9997 - attrition_output_loss: 0.0117 - department_output_accuracy: 0.9977 - department_output_loss: 0.0271 - loss: 0.0388 - val_attrition_output_accuracy: 0.7669 - val_attrition_output_loss: 1.4908 - val_department_output_accuracy: 0.5763 - val_department_output_loss: 2.4920 - val_loss: 4.0509\n",
            "Epoch 88/100\n",
            "\u001b[1m30/30\u001b[0m \u001b[32m━━━━━━━━━━━━━━━━━━━━\u001b[0m\u001b[37m\u001b[0m \u001b[1m0s\u001b[0m 5ms/step - attrition_output_accuracy: 0.9979 - attrition_output_loss: 0.0129 - department_output_accuracy: 0.9959 - department_output_loss: 0.0334 - loss: 0.0464 - val_attrition_output_accuracy: 0.7500 - val_attrition_output_loss: 1.4577 - val_department_output_accuracy: 0.6059 - val_department_output_loss: 2.4700 - val_loss: 4.0450\n",
            "Epoch 89/100\n",
            "\u001b[1m30/30\u001b[0m \u001b[32m━━━━━━━━━━━━━━━━━━━━\u001b[0m\u001b[37m\u001b[0m \u001b[1m0s\u001b[0m 5ms/step - attrition_output_accuracy: 0.9975 - attrition_output_loss: 0.0129 - department_output_accuracy: 0.9960 - department_output_loss: 0.0280 - loss: 0.0408 - val_attrition_output_accuracy: 0.7542 - val_attrition_output_loss: 1.4541 - val_department_output_accuracy: 0.6186 - val_department_output_loss: 2.5242 - val_loss: 4.0760\n",
            "Epoch 90/100\n",
            "\u001b[1m30/30\u001b[0m \u001b[32m━━━━━━━━━━━━━━━━━━━━\u001b[0m\u001b[37m\u001b[0m \u001b[1m0s\u001b[0m 4ms/step - attrition_output_accuracy: 0.9993 - attrition_output_loss: 0.0105 - department_output_accuracy: 0.9986 - department_output_loss: 0.0220 - loss: 0.0325 - val_attrition_output_accuracy: 0.7627 - val_attrition_output_loss: 1.5058 - val_department_output_accuracy: 0.5678 - val_department_output_loss: 2.6540 - val_loss: 4.2351\n",
            "Epoch 91/100\n",
            "\u001b[1m30/30\u001b[0m \u001b[32m━━━━━━━━━━━━━━━━━━━━\u001b[0m\u001b[37m\u001b[0m \u001b[1m0s\u001b[0m 4ms/step - attrition_output_accuracy: 0.9959 - attrition_output_loss: 0.0210 - department_output_accuracy: 0.9929 - department_output_loss: 0.0339 - loss: 0.0549 - val_attrition_output_accuracy: 0.7669 - val_attrition_output_loss: 1.4896 - val_department_output_accuracy: 0.5763 - val_department_output_loss: 2.6629 - val_loss: 4.2728\n",
            "Epoch 92/100\n",
            "\u001b[1m30/30\u001b[0m \u001b[32m━━━━━━━━━━━━━━━━━━━━\u001b[0m\u001b[37m\u001b[0m \u001b[1m0s\u001b[0m 6ms/step - attrition_output_accuracy: 0.9998 - attrition_output_loss: 0.0121 - department_output_accuracy: 0.9936 - department_output_loss: 0.0317 - loss: 0.0436 - val_attrition_output_accuracy: 0.7542 - val_attrition_output_loss: 1.5014 - val_department_output_accuracy: 0.6017 - val_department_output_loss: 2.5625 - val_loss: 4.1747\n",
            "Epoch 93/100\n",
            "\u001b[1m30/30\u001b[0m \u001b[32m━━━━━━━━━━━━━━━━━━━━\u001b[0m\u001b[37m\u001b[0m \u001b[1m0s\u001b[0m 6ms/step - attrition_output_accuracy: 0.9956 - attrition_output_loss: 0.0186 - department_output_accuracy: 0.9972 - department_output_loss: 0.0297 - loss: 0.0482 - val_attrition_output_accuracy: 0.7500 - val_attrition_output_loss: 1.5977 - val_department_output_accuracy: 0.5975 - val_department_output_loss: 2.7186 - val_loss: 4.4002\n",
            "Epoch 94/100\n",
            "\u001b[1m30/30\u001b[0m \u001b[32m━━━━━━━━━━━━━━━━━━━━\u001b[0m\u001b[37m\u001b[0m \u001b[1m0s\u001b[0m 5ms/step - attrition_output_accuracy: 0.9950 - attrition_output_loss: 0.0155 - department_output_accuracy: 0.9999 - department_output_loss: 0.0204 - loss: 0.0359 - val_attrition_output_accuracy: 0.7415 - val_attrition_output_loss: 1.5388 - val_department_output_accuracy: 0.5847 - val_department_output_loss: 2.6384 - val_loss: 4.2920\n",
            "Epoch 95/100\n",
            "\u001b[1m30/30\u001b[0m \u001b[32m━━━━━━━━━━━━━━━━━━━━\u001b[0m\u001b[37m\u001b[0m \u001b[1m0s\u001b[0m 5ms/step - attrition_output_accuracy: 1.0000 - attrition_output_loss: 0.0108 - department_output_accuracy: 0.9998 - department_output_loss: 0.0195 - loss: 0.0303 - val_attrition_output_accuracy: 0.7373 - val_attrition_output_loss: 1.6021 - val_department_output_accuracy: 0.5890 - val_department_output_loss: 2.7054 - val_loss: 4.4009\n",
            "Epoch 96/100\n",
            "\u001b[1m30/30\u001b[0m \u001b[32m━━━━━━━━━━━━━━━━━━━━\u001b[0m\u001b[37m\u001b[0m \u001b[1m0s\u001b[0m 5ms/step - attrition_output_accuracy: 0.9987 - attrition_output_loss: 0.0129 - department_output_accuracy: 1.0000 - department_output_loss: 0.0176 - loss: 0.0305 - val_attrition_output_accuracy: 0.7627 - val_attrition_output_loss: 1.5644 - val_department_output_accuracy: 0.5805 - val_department_output_loss: 2.7315 - val_loss: 4.4045\n",
            "Epoch 97/100\n",
            "\u001b[1m30/30\u001b[0m \u001b[32m━━━━━━━━━━━━━━━━━━━━\u001b[0m\u001b[37m\u001b[0m \u001b[1m0s\u001b[0m 4ms/step - attrition_output_accuracy: 1.0000 - attrition_output_loss: 0.0094 - department_output_accuracy: 0.9977 - department_output_loss: 0.0201 - loss: 0.0295 - val_attrition_output_accuracy: 0.7373 - val_attrition_output_loss: 1.5786 - val_department_output_accuracy: 0.5932 - val_department_output_loss: 2.7874 - val_loss: 4.4851\n",
            "Epoch 98/100\n",
            "\u001b[1m30/30\u001b[0m \u001b[32m━━━━━━━━━━━━━━━━━━━━\u001b[0m\u001b[37m\u001b[0m \u001b[1m0s\u001b[0m 5ms/step - attrition_output_accuracy: 0.9974 - attrition_output_loss: 0.0093 - department_output_accuracy: 0.9985 - department_output_loss: 0.0174 - loss: 0.0268 - val_attrition_output_accuracy: 0.7542 - val_attrition_output_loss: 1.5847 - val_department_output_accuracy: 0.5932 - val_department_output_loss: 2.6830 - val_loss: 4.3689\n",
            "Epoch 99/100\n",
            "\u001b[1m30/30\u001b[0m \u001b[32m━━━━━━━━━━━━━━━━━━━━\u001b[0m\u001b[37m\u001b[0m \u001b[1m0s\u001b[0m 5ms/step - attrition_output_accuracy: 0.9969 - attrition_output_loss: 0.0108 - department_output_accuracy: 0.9992 - department_output_loss: 0.0147 - loss: 0.0255 - val_attrition_output_accuracy: 0.7500 - val_attrition_output_loss: 1.6121 - val_department_output_accuracy: 0.5932 - val_department_output_loss: 2.8222 - val_loss: 4.5413\n",
            "Epoch 100/100\n",
            "\u001b[1m30/30\u001b[0m \u001b[32m━━━━━━━━━━━━━━━━━━━━\u001b[0m\u001b[37m\u001b[0m \u001b[1m0s\u001b[0m 6ms/step - attrition_output_accuracy: 0.9997 - attrition_output_loss: 0.0080 - department_output_accuracy: 1.0000 - department_output_loss: 0.0139 - loss: 0.0219 - val_attrition_output_accuracy: 0.7585 - val_attrition_output_loss: 1.6731 - val_department_output_accuracy: 0.5932 - val_department_output_loss: 2.7841 - val_loss: 4.5605\n"
          ]
        }
      ],
      "source": [
        "# Train the model\n",
        "history = model.fit(\n",
        "    X_train_scaled,\n",
        "    {\n",
        "        \"department_output\": y_train_dept,\n",
        "        \"attrition_output\": y_train_attr\n",
        "    },\n",
        "    epochs=100,\n",
        "    batch_size=32,\n",
        "    validation_split=0.2,\n",
        "    verbose=1\n",
        ")"
      ]
    },
    {
      "cell_type": "code",
      "execution_count": 39,
      "metadata": {
        "colab": {
          "base_uri": "https://localhost:8080/",
          "height": 0
        },
        "id": "VsMoaQlgGc3U",
        "outputId": "a4b0aa78-962b-444a-e685-5fd9431a75e3"
      },
      "outputs": [
        {
          "name": "stdout",
          "output_type": "stream",
          "text": [
            "\u001b[1m10/10\u001b[0m \u001b[32m━━━━━━━━━━━━━━━━━━━━\u001b[0m\u001b[37m\u001b[0m \u001b[1m0s\u001b[0m 4ms/step - attrition_output_accuracy: 0.7938 - attrition_output_loss: 1.6353 - department_output_accuracy: 0.5903 - department_output_loss: 3.3128 - loss: 4.9921 \n"
          ]
        }
      ],
      "source": [
        "# Evaluate the model with the testing data\n",
        "eval_results = model.evaluate(\n",
        "    X_test_scaled,\n",
        "    {\n",
        "        \"department_output\": y_test_dept,\n",
        "        \"attrition_output\": y_test_attr\n",
        "    },\n",
        "    verbose=1\n",
        ")"
      ]
    },
    {
      "cell_type": "code",
      "execution_count": 40,
      "metadata": {
        "colab": {
          "base_uri": "https://localhost:8080/",
          "height": 0
        },
        "id": "ZlCtlHi0Vt54",
        "outputId": "0606fc64-6d71-463c-fe20-ca5c3ffb9338"
      },
      "outputs": [
        {
          "name": "stdout",
          "output_type": "stream",
          "text": [
            "Department predictions accuracy: 0.8163265585899353\n",
            "Attrition predictions accuracy: 0.5884353518486023\n"
          ]
        }
      ],
      "source": [
        "# Print the accuracy for both department and attrition\n",
        "print(f\"Department predictions accuracy: {eval_results[3]}\")\n",
        "print(f\"Attrition predictions accuracy: {eval_results[4]}\")"
      ]
    },
    {
      "cell_type": "markdown",
      "metadata": {
        "id": "eGSyfsZfWOQM"
      },
      "source": [
        "# Summary\n",
        "\n",
        "In the provided space below, briefly answer the following questions.\n",
        "\n",
        "1. Is accuracy the best metric to use on this data? Why or why not?\n",
        "\n",
        "2. What activation functions did you choose for your output layers, and why?\n",
        "\n",
        "3. Can you name a few ways that this model might be improved?"
      ]
    },
    {
      "cell_type": "markdown",
      "metadata": {
        "id": "pi9SLpFnWvbF"
      },
      "source": [
        "YOUR ANSWERS HERE\n",
        "\n",
        "1. Accuracy is a useful starting point, but it may not be the best performing metric depending on class imbalance. For example, if most employees do not leave the company, a model could achieve high accuracy by using \"No Attrition.\" In such cases, precision, recall, or F1-score might better reflect performance, especially for attrition prediction where false negatives could impact the results. The department class is also imbalanced so it might benefit from not using accuracy as well.\n",
        "2. I used the softmax activation function for both output layers. Softmax is appropriate for multi-class classification problems where the outputs are one-hot encoded. For attrition, although it's a binary outcome, the labels were one-hot encoded, so softmax with two output neurons was the appropriate choice. For department prediction, softmax is ideal as it handles three mutually exclusive classes.\n",
        "3.\n",
        "*  Add regularization (dropout or L2) to reduce overfitting.\n",
        "*   Use early stopping or learning rate scheduling to optimize training duration.\n",
        "*   Try different model architectures (e.g., deeper or wider layers, or recurrent layers if data is temporal).\n",
        "*   Balance the dataset using oversampling (e.g., SMOTE) if class imbalance is significant.\n",
        "*   Tune hyperparameters such as batch size, learning rate, or number of neurons using grid search or random search.\n",
        "\n",
        "\n",
        "\n",
        "\n",
        "\n"
      ]
    }
  ],
  "metadata": {
    "colab": {
      "provenance": []
    },
    "kernelspec": {
      "display_name": "dev",
      "language": "python",
      "name": "python3"
    },
    "language_info": {
      "codemirror_mode": {
        "name": "ipython",
        "version": 3
      },
      "file_extension": ".py",
      "mimetype": "text/x-python",
      "name": "python",
      "nbconvert_exporter": "python",
      "pygments_lexer": "ipython3",
      "version": "3.10.15"
    }
  },
  "nbformat": 4,
  "nbformat_minor": 0
}
